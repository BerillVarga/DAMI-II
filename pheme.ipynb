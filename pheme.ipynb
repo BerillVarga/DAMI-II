{
 "cells": [
  {
   "cell_type": "markdown",
   "metadata": {},
   "source": [
    "# Pheme dataset - Fake new detection"
   ]
  },
  {
   "cell_type": "code",
   "execution_count": 1,
   "metadata": {},
   "outputs": [],
   "source": [
    "# IMPORT\n",
    "\n",
    "# Base libraries\n",
    "import pandas as pd\n",
    "import numpy as np\n",
    "\n",
    "# NLP preprocessing\n",
    "from nltk.tokenize import word_tokenize\n",
    "from nltk.stem import WordNetLemmatizer\n",
    "from nltk.corpus import stopwords \n",
    "\n",
    "# Split and feature engineering\n",
    "from sklearn.model_selection import train_test_split\n",
    "from sklearn.feature_extraction.text import TfidfVectorizer\n",
    "\n",
    "# Model training\n",
    "from sklearn.model_selection import GridSearchCV\n",
    "from sklearn.svm import SVC\n",
    "from sklearn.ensemble import RandomForestClassifier\n",
    "from sklearn.naive_bayes import MultinomialNB\n",
    "\n",
    "# Evaluation\n",
    "from sklearn.metrics import precision_score, recall_score, f1_score, accuracy_score\n",
    "from sklearn.metrics import classification_report\n",
    "\n",
    "# Plot\n",
    "import matplotlib.pyplot as plt\n",
    "from sklearn.metrics import RocCurveDisplay\n",
    "from sklearn.metrics import PrecisionRecallDisplay\n",
    "\n",
    "\n",
    "# Set random seed\n",
    "RANDOM_SEED = 1234"
   ]
  },
  {
   "cell_type": "markdown",
   "metadata": {},
   "source": [
    "## Preprocessing"
   ]
  },
  {
   "cell_type": "markdown",
   "metadata": {},
   "source": [
    "### Loading the data and descriptive statisitics"
   ]
  },
  {
   "cell_type": "code",
   "execution_count": 2,
   "metadata": {},
   "outputs": [],
   "source": [
    "# File path\n",
    "pheme_path = 'Pheme_dataset/dataset.csv'\n",
    "\n",
    "\n",
    "# Load the dataaset\n",
    "pheme_df = pd.read_csv(pheme_path)\n",
    "\n",
    "\n",
    "# Remove unnecessary features from the dataset\n",
    "pheme = pheme_df.drop(columns=['user.handle', 'topic'])"
   ]
  },
  {
   "cell_type": "code",
   "execution_count": 3,
   "metadata": {},
   "outputs": [
    {
     "data": {
      "text/html": [
       "<div>\n",
       "<style scoped>\n",
       "    .dataframe tbody tr th:only-of-type {\n",
       "        vertical-align: middle;\n",
       "    }\n",
       "\n",
       "    .dataframe tbody tr th {\n",
       "        vertical-align: top;\n",
       "    }\n",
       "\n",
       "    .dataframe thead th {\n",
       "        text-align: right;\n",
       "    }\n",
       "</style>\n",
       "<table border=\"1\" class=\"dataframe\">\n",
       "  <thead>\n",
       "    <tr style=\"text-align: right;\">\n",
       "      <th></th>\n",
       "      <th>text</th>\n",
       "      <th>is_rumor</th>\n",
       "    </tr>\n",
       "  </thead>\n",
       "  <tbody>\n",
       "    <tr>\n",
       "      <th>0</th>\n",
       "      <td>Charlie Hebdo became well known for publishing...</td>\n",
       "      <td>0.0</td>\n",
       "    </tr>\n",
       "    <tr>\n",
       "      <th>1</th>\n",
       "      <td>Now 10 dead in a shooting there today RT \"@BBC...</td>\n",
       "      <td>0.0</td>\n",
       "    </tr>\n",
       "    <tr>\n",
       "      <th>2</th>\n",
       "      <td>@BBCDanielS @BBCWorld I'm guessing this is bei...</td>\n",
       "      <td>0.0</td>\n",
       "    </tr>\n",
       "    <tr>\n",
       "      <th>3</th>\n",
       "      <td>@BBCDanielS @BBCWorld why would you mention th...</td>\n",
       "      <td>0.0</td>\n",
       "    </tr>\n",
       "    <tr>\n",
       "      <th>4</th>\n",
       "      <td>@BBCDanielS @BBCWorld perps identified?</td>\n",
       "      <td>0.0</td>\n",
       "    </tr>\n",
       "    <tr>\n",
       "      <th>5</th>\n",
       "      <td>@BBCDanielS @BBCWorld who is charlie hebdo?</td>\n",
       "      <td>0.0</td>\n",
       "    </tr>\n",
       "    <tr>\n",
       "      <th>6</th>\n",
       "      <td>@im_a_5H_Voter A French satirical magazine</td>\n",
       "      <td>0.0</td>\n",
       "    </tr>\n",
       "    <tr>\n",
       "      <th>7</th>\n",
       "      <td>@GabTarquini @BBCDanielS @BBCWorld Maybe becau...</td>\n",
       "      <td>0.0</td>\n",
       "    </tr>\n",
       "    <tr>\n",
       "      <th>8</th>\n",
       "      <td>@S_Jakobsen @BBCDanielS @BBCWorld what's your ...</td>\n",
       "      <td>0.0</td>\n",
       "    </tr>\n",
       "    <tr>\n",
       "      <th>9</th>\n",
       "      <td>@GabTarquini @BBCDanielS @BBCWorld Several men...</td>\n",
       "      <td>0.0</td>\n",
       "    </tr>\n",
       "  </tbody>\n",
       "</table>\n",
       "</div>"
      ],
      "text/plain": [
       "                                                text  is_rumor\n",
       "0  Charlie Hebdo became well known for publishing...       0.0\n",
       "1  Now 10 dead in a shooting there today RT \"@BBC...       0.0\n",
       "2  @BBCDanielS @BBCWorld I'm guessing this is bei...       0.0\n",
       "3  @BBCDanielS @BBCWorld why would you mention th...       0.0\n",
       "4            @BBCDanielS @BBCWorld perps identified?       0.0\n",
       "5        @BBCDanielS @BBCWorld who is charlie hebdo?       0.0\n",
       "6         @im_a_5H_Voter A French satirical magazine       0.0\n",
       "7  @GabTarquini @BBCDanielS @BBCWorld Maybe becau...       0.0\n",
       "8  @S_Jakobsen @BBCDanielS @BBCWorld what's your ...       0.0\n",
       "9  @GabTarquini @BBCDanielS @BBCWorld Several men...       0.0"
      ]
     },
     "execution_count": 3,
     "metadata": {},
     "output_type": "execute_result"
    }
   ],
   "source": [
    "# Head of the dataset \n",
    "pheme.head(10)"
   ]
  },
  {
   "cell_type": "code",
   "execution_count": 4,
   "metadata": {},
   "outputs": [
    {
     "data": {
      "text/plain": [
       "(62445, 2)"
      ]
     },
     "execution_count": 4,
     "metadata": {},
     "output_type": "execute_result"
    }
   ],
   "source": [
    "# Shape of data object\n",
    "pheme.shape"
   ]
  },
  {
   "cell_type": "code",
   "execution_count": 5,
   "metadata": {},
   "outputs": [
    {
     "name": "stdout",
     "output_type": "stream",
     "text": [
      "<class 'pandas.core.frame.DataFrame'>\n",
      "RangeIndex: 62445 entries, 0 to 62444\n",
      "Data columns (total 2 columns):\n",
      " #   Column    Non-Null Count  Dtype  \n",
      "---  ------    --------------  -----  \n",
      " 0   text      62445 non-null  object \n",
      " 1   is_rumor  62443 non-null  float64\n",
      "dtypes: float64(1), object(1)\n",
      "memory usage: 975.8+ KB\n"
     ]
    }
   ],
   "source": [
    "# Info about data object\n",
    "pheme.info()"
   ]
  },
  {
   "cell_type": "code",
   "execution_count": 6,
   "metadata": {},
   "outputs": [
    {
     "data": {
      "text/plain": [
       "Index(['text', 'is_rumor'], dtype='object')"
      ]
     },
     "execution_count": 6,
     "metadata": {},
     "output_type": "execute_result"
    }
   ],
   "source": [
    "# Column names of dataframe\n",
    "pheme.columns"
   ]
  },
  {
   "cell_type": "code",
   "execution_count": 7,
   "metadata": {},
   "outputs": [],
   "source": [
    "# Drop duplicates\n",
    "pheme = pheme.drop_duplicates()"
   ]
  },
  {
   "cell_type": "markdown",
   "metadata": {},
   "source": [
    "### Missing values"
   ]
  },
  {
   "cell_type": "code",
   "execution_count": 8,
   "metadata": {},
   "outputs": [
    {
     "data": {
      "text/plain": [
       "2"
      ]
     },
     "execution_count": 8,
     "metadata": {},
     "output_type": "execute_result"
    }
   ],
   "source": [
    "# Check how many missing values there are in the dataset\n",
    "pheme.isnull().sum().sum()"
   ]
  },
  {
   "cell_type": "code",
   "execution_count": 9,
   "metadata": {},
   "outputs": [
    {
     "data": {
      "text/plain": [
       "text        False\n",
       "is_rumor     True\n",
       "dtype: bool"
      ]
     },
     "execution_count": 9,
     "metadata": {},
     "output_type": "execute_result"
    }
   ],
   "source": [
    "# Check in which column(s)\n",
    "pheme.isnull().any()"
   ]
  },
  {
   "cell_type": "markdown",
   "metadata": {},
   "source": [
    "These 2 missing values are both in the label ('is_rumor') column. Thus, there is nothing else to do than remove these."
   ]
  },
  {
   "cell_type": "code",
   "execution_count": 10,
   "metadata": {},
   "outputs": [
    {
     "name": "stdout",
     "output_type": "stream",
     "text": [
      "[ 0.  1. nan]\n"
     ]
    }
   ],
   "source": [
    "# Check unique values of the label ('is_rumor') cloumn\n",
    "print(pheme['is_rumor'].unique())"
   ]
  },
  {
   "cell_type": "code",
   "execution_count": 11,
   "metadata": {},
   "outputs": [],
   "source": [
    "# Delete the null-valued rows from the dataset\n",
    "pheme = pheme.dropna()"
   ]
  },
  {
   "cell_type": "code",
   "execution_count": 12,
   "metadata": {},
   "outputs": [],
   "source": [
    "# Changing the data type of the \"is_rumor\" column from float to int\n",
    "pheme['is_rumor'] = pheme['is_rumor'].astype(int)"
   ]
  },
  {
   "cell_type": "code",
   "execution_count": 13,
   "metadata": {},
   "outputs": [
    {
     "data": {
      "text/plain": [
       "0    47875\n",
       "1    13529\n",
       "Name: is_rumor, dtype: int64"
      ]
     },
     "execution_count": 13,
     "metadata": {},
     "output_type": "execute_result"
    }
   ],
   "source": [
    "# Number of instances with label ('is_rumor') 0 and 1\n",
    "pheme[\"is_rumor\"].value_counts()"
   ]
  },
  {
   "cell_type": "markdown",
   "metadata": {},
   "source": [
    "### Preparing data for analysis"
   ]
  },
  {
   "cell_type": "code",
   "execution_count": 14,
   "metadata": {},
   "outputs": [],
   "source": [
    "# Flipping the label encoding (1 --> 0, 0 --> 1) and chaning the column name\n",
    "pheme['is_rumor'] = pheme.loc[:, 'is_rumor'].replace({1: 0, 0: 1})\n",
    "pheme.rename(columns={'is_rumor': 'is_real'}, inplace=True)"
   ]
  },
  {
   "cell_type": "markdown",
   "metadata": {},
   "source": [
    "#### Tokenization"
   ]
  },
  {
   "cell_type": "code",
   "execution_count": 15,
   "metadata": {},
   "outputs": [],
   "source": [
    "# Create new column with tokens\n",
    "pheme['tokens'] = pheme.apply(lambda row: word_tokenize(row['text']), axis=1)"
   ]
  },
  {
   "cell_type": "markdown",
   "metadata": {},
   "source": [
    "#### Lemmatization"
   ]
  },
  {
   "cell_type": "code",
   "execution_count": 16,
   "metadata": {},
   "outputs": [],
   "source": [
    "# Instantiate the lemmatizer\n",
    "lemmatizer = WordNetLemmatizer()\n",
    "\n",
    "\n",
    "# Create new column with lemmas\n",
    "pheme['lemma'] = pheme.apply(lambda row: [lemmatizer.lemmatize(token.lower()) for token in row[\"tokens\"]], axis=1)"
   ]
  },
  {
   "cell_type": "markdown",
   "metadata": {},
   "source": [
    "#### Stopword removal"
   ]
  },
  {
   "cell_type": "code",
   "execution_count": 17,
   "metadata": {},
   "outputs": [],
   "source": [
    "# Load the english stopwords\n",
    "english_stop_words = stopwords.words('english')\n",
    "\n",
    "\n",
    "# Create new column without stopwords\n",
    "pheme['stopword'] = pheme.apply(lambda row: [token for token in row[\"lemma\"] if token not in english_stop_words], axis=1)"
   ]
  },
  {
   "cell_type": "markdown",
   "metadata": {},
   "source": [
    "#### Final string creation"
   ]
  },
  {
   "cell_type": "code",
   "execution_count": 18,
   "metadata": {},
   "outputs": [],
   "source": [
    "# Create new column with joined tokens (as TD-IDF takes a string as input)\n",
    "pheme['final'] = pheme.apply(lambda row: \" \".join(row['stopword']), axis=1)"
   ]
  },
  {
   "cell_type": "code",
   "execution_count": 19,
   "metadata": {},
   "outputs": [
    {
     "data": {
      "text/html": [
       "<div>\n",
       "<style scoped>\n",
       "    .dataframe tbody tr th:only-of-type {\n",
       "        vertical-align: middle;\n",
       "    }\n",
       "\n",
       "    .dataframe tbody tr th {\n",
       "        vertical-align: top;\n",
       "    }\n",
       "\n",
       "    .dataframe thead th {\n",
       "        text-align: right;\n",
       "    }\n",
       "</style>\n",
       "<table border=\"1\" class=\"dataframe\">\n",
       "  <thead>\n",
       "    <tr style=\"text-align: right;\">\n",
       "      <th></th>\n",
       "      <th>text</th>\n",
       "      <th>is_real</th>\n",
       "      <th>tokens</th>\n",
       "      <th>lemma</th>\n",
       "      <th>stopword</th>\n",
       "      <th>final</th>\n",
       "    </tr>\n",
       "  </thead>\n",
       "  <tbody>\n",
       "    <tr>\n",
       "      <th>0</th>\n",
       "      <td>Charlie Hebdo became well known for publishing...</td>\n",
       "      <td>1</td>\n",
       "      <td>[Charlie, Hebdo, became, well, known, for, pub...</td>\n",
       "      <td>[charlie, hebdo, became, well, known, for, pub...</td>\n",
       "      <td>[charlie, hebdo, became, well, known, publishi...</td>\n",
       "      <td>charlie hebdo became well known publishing muh...</td>\n",
       "    </tr>\n",
       "    <tr>\n",
       "      <th>1</th>\n",
       "      <td>Now 10 dead in a shooting there today RT \"@BBC...</td>\n",
       "      <td>1</td>\n",
       "      <td>[Now, 10, dead, in, a, shooting, there, today,...</td>\n",
       "      <td>[now, 10, dead, in, a, shooting, there, today,...</td>\n",
       "      <td>[10, dead, shooting, today, rt, ``, @, bbcdani...</td>\n",
       "      <td>10 dead shooting today rt `` @ bbcdaniels : ch...</td>\n",
       "    </tr>\n",
       "    <tr>\n",
       "      <th>2</th>\n",
       "      <td>@BBCDanielS @BBCWorld I'm guessing this is bei...</td>\n",
       "      <td>1</td>\n",
       "      <td>[@, BBCDanielS, @, BBCWorld, I, 'm, guessing, ...</td>\n",
       "      <td>[@, bbcdaniels, @, bbcworld, i, 'm, guessing, ...</td>\n",
       "      <td>[@, bbcdaniels, @, bbcworld, 'm, guessing, con...</td>\n",
       "      <td>@ bbcdaniels @ bbcworld 'm guessing considered...</td>\n",
       "    </tr>\n",
       "    <tr>\n",
       "      <th>3</th>\n",
       "      <td>@BBCDanielS @BBCWorld why would you mention th...</td>\n",
       "      <td>1</td>\n",
       "      <td>[@, BBCDanielS, @, BBCWorld, why, would, you, ...</td>\n",
       "      <td>[@, bbcdaniels, @, bbcworld, why, would, you, ...</td>\n",
       "      <td>[@, bbcdaniels, @, bbcworld, would, mention, k...</td>\n",
       "      <td>@ bbcdaniels @ bbcworld would mention knowing ...</td>\n",
       "    </tr>\n",
       "    <tr>\n",
       "      <th>4</th>\n",
       "      <td>@BBCDanielS @BBCWorld perps identified?</td>\n",
       "      <td>1</td>\n",
       "      <td>[@, BBCDanielS, @, BBCWorld, perps, identified...</td>\n",
       "      <td>[@, bbcdaniels, @, bbcworld, perps, identified...</td>\n",
       "      <td>[@, bbcdaniels, @, bbcworld, perps, identified...</td>\n",
       "      <td>@ bbcdaniels @ bbcworld perps identified ?</td>\n",
       "    </tr>\n",
       "  </tbody>\n",
       "</table>\n",
       "</div>"
      ],
      "text/plain": [
       "                                                text  is_real  \\\n",
       "0  Charlie Hebdo became well known for publishing...        1   \n",
       "1  Now 10 dead in a shooting there today RT \"@BBC...        1   \n",
       "2  @BBCDanielS @BBCWorld I'm guessing this is bei...        1   \n",
       "3  @BBCDanielS @BBCWorld why would you mention th...        1   \n",
       "4            @BBCDanielS @BBCWorld perps identified?        1   \n",
       "\n",
       "                                              tokens  \\\n",
       "0  [Charlie, Hebdo, became, well, known, for, pub...   \n",
       "1  [Now, 10, dead, in, a, shooting, there, today,...   \n",
       "2  [@, BBCDanielS, @, BBCWorld, I, 'm, guessing, ...   \n",
       "3  [@, BBCDanielS, @, BBCWorld, why, would, you, ...   \n",
       "4  [@, BBCDanielS, @, BBCWorld, perps, identified...   \n",
       "\n",
       "                                               lemma  \\\n",
       "0  [charlie, hebdo, became, well, known, for, pub...   \n",
       "1  [now, 10, dead, in, a, shooting, there, today,...   \n",
       "2  [@, bbcdaniels, @, bbcworld, i, 'm, guessing, ...   \n",
       "3  [@, bbcdaniels, @, bbcworld, why, would, you, ...   \n",
       "4  [@, bbcdaniels, @, bbcworld, perps, identified...   \n",
       "\n",
       "                                            stopword  \\\n",
       "0  [charlie, hebdo, became, well, known, publishi...   \n",
       "1  [10, dead, shooting, today, rt, ``, @, bbcdani...   \n",
       "2  [@, bbcdaniels, @, bbcworld, 'm, guessing, con...   \n",
       "3  [@, bbcdaniels, @, bbcworld, would, mention, k...   \n",
       "4  [@, bbcdaniels, @, bbcworld, perps, identified...   \n",
       "\n",
       "                                               final  \n",
       "0  charlie hebdo became well known publishing muh...  \n",
       "1  10 dead shooting today rt `` @ bbcdaniels : ch...  \n",
       "2  @ bbcdaniels @ bbcworld 'm guessing considered...  \n",
       "3  @ bbcdaniels @ bbcworld would mention knowing ...  \n",
       "4         @ bbcdaniels @ bbcworld perps identified ?  "
      ]
     },
     "execution_count": 19,
     "metadata": {},
     "output_type": "execute_result"
    }
   ],
   "source": [
    "# Head of the created dataaset\n",
    "pheme.head()"
   ]
  },
  {
   "cell_type": "markdown",
   "metadata": {},
   "source": [
    "#### Splitting data and feature engineering"
   ]
  },
  {
   "cell_type": "markdown",
   "metadata": {},
   "source": [
    "##### Splitting"
   ]
  },
  {
   "cell_type": "code",
   "execution_count": 20,
   "metadata": {},
   "outputs": [],
   "source": [
    "# Split the data into train set and test set (70/30 split)\n",
    "X_train, X_test, y_train, y_test = train_test_split(pheme['final'], pheme['is_real'], test_size=0.3, random_state=RANDOM_SEED, stratify=pheme['is_real'])"
   ]
  },
  {
   "cell_type": "markdown",
   "metadata": {},
   "source": [
    "##### TF-IDF"
   ]
  },
  {
   "cell_type": "code",
   "execution_count": 21,
   "metadata": {},
   "outputs": [],
   "source": [
    "# Initialize vectorizer with token pattern to remove numbers, single characters and \n",
    "# non-latin alphabet characters\n",
    "vectorizer = TfidfVectorizer(token_pattern=r'(?u)\\b[A-Za-z]{3,}\\b')\n",
    "\n",
    "\n",
    "# Fit-transform to taining data\n",
    "X_train_tfidf = vectorizer.fit_transform(X_train)\n",
    "\n",
    "\n",
    "# Transform test data\n",
    "X_test_tfidf = vectorizer.transform(X_test)"
   ]
  },
  {
   "cell_type": "code",
   "execution_count": 22,
   "metadata": {},
   "outputs": [],
   "source": [
    "# # Matrix to see the result\n",
    "# df_train_tfidf = pd.DataFrame(X_train_tfidf.toarray(), columns=vectorizer.get_feature_names_out(), index=range(1, len(X_train)+1))\n",
    "\n",
    "\n",
    "# # Display the TF-IDF matrix\n",
    "# print(\"TF-IDF Matrix:\")\n",
    "# print(df_train_tfidf.head())"
   ]
  },
  {
   "cell_type": "code",
   "execution_count": 23,
   "metadata": {},
   "outputs": [],
   "source": [
    "# # Matrix to see the result\n",
    "# df_test_tfidf = pd.DataFrame(X_test_tfidf.toarray(), columns=vectorizer.get_feature_names_out(), index=range(1, len(X_test)+1))\n",
    "\n",
    "\n",
    "# # Display the TF-IDF matrix\n",
    "# print(\"TF-IDF Matrix:\")\n",
    "# print(df_test_tfidf.head())"
   ]
  },
  {
   "cell_type": "markdown",
   "metadata": {},
   "source": [
    "## Model training"
   ]
  },
  {
   "cell_type": "markdown",
   "metadata": {},
   "source": [
    "### Support Vector Machine/Classifier"
   ]
  },
  {
   "cell_type": "code",
   "execution_count": 24,
   "metadata": {},
   "outputs": [
    {
     "name": "stdout",
     "output_type": "stream",
     "text": [
      "SVC(C=10.0, random_state=1234)\n"
     ]
    }
   ],
   "source": [
    "# Instantiate SVM\n",
    "svc = SVC(random_state=RANDOM_SEED)\n",
    "\n",
    "\n",
    "# Parameter grid dictionary\n",
    "param_grid_svc = [\n",
    "    {'C':[1.0, 10.0, 100.0], \n",
    "     'kernel':['linear', 'poly', 'rbf']}\n",
    "]\n",
    "\n",
    "\n",
    "# Instantiate GridSearchCV and fit it to the training data\n",
    "search_svc = GridSearchCV(svc, param_grid_svc, cv=5, n_jobs=-1)\n",
    "search_svc.fit(X_train_tfidf, y_train)\n",
    "\n",
    "\n",
    "# Print the best estimator\n",
    "print(search_svc.best_estimator_)\n",
    "\n",
    "\n",
    "# Save the best parameters in a variable \n",
    "best_params_svc = search_svc.best_params_"
   ]
  },
  {
   "cell_type": "markdown",
   "metadata": {},
   "source": [
    "#### Final model"
   ]
  },
  {
   "cell_type": "code",
   "execution_count": 25,
   "metadata": {},
   "outputs": [
    {
     "data": {
      "text/html": [
       "<style>#sk-container-id-1 {color: black;}#sk-container-id-1 pre{padding: 0;}#sk-container-id-1 div.sk-toggleable {background-color: white;}#sk-container-id-1 label.sk-toggleable__label {cursor: pointer;display: block;width: 100%;margin-bottom: 0;padding: 0.3em;box-sizing: border-box;text-align: center;}#sk-container-id-1 label.sk-toggleable__label-arrow:before {content: \"▸\";float: left;margin-right: 0.25em;color: #696969;}#sk-container-id-1 label.sk-toggleable__label-arrow:hover:before {color: black;}#sk-container-id-1 div.sk-estimator:hover label.sk-toggleable__label-arrow:before {color: black;}#sk-container-id-1 div.sk-toggleable__content {max-height: 0;max-width: 0;overflow: hidden;text-align: left;background-color: #f0f8ff;}#sk-container-id-1 div.sk-toggleable__content pre {margin: 0.2em;color: black;border-radius: 0.25em;background-color: #f0f8ff;}#sk-container-id-1 input.sk-toggleable__control:checked~div.sk-toggleable__content {max-height: 200px;max-width: 100%;overflow: auto;}#sk-container-id-1 input.sk-toggleable__control:checked~label.sk-toggleable__label-arrow:before {content: \"▾\";}#sk-container-id-1 div.sk-estimator input.sk-toggleable__control:checked~label.sk-toggleable__label {background-color: #d4ebff;}#sk-container-id-1 div.sk-label input.sk-toggleable__control:checked~label.sk-toggleable__label {background-color: #d4ebff;}#sk-container-id-1 input.sk-hidden--visually {border: 0;clip: rect(1px 1px 1px 1px);clip: rect(1px, 1px, 1px, 1px);height: 1px;margin: -1px;overflow: hidden;padding: 0;position: absolute;width: 1px;}#sk-container-id-1 div.sk-estimator {font-family: monospace;background-color: #f0f8ff;border: 1px dotted black;border-radius: 0.25em;box-sizing: border-box;margin-bottom: 0.5em;}#sk-container-id-1 div.sk-estimator:hover {background-color: #d4ebff;}#sk-container-id-1 div.sk-parallel-item::after {content: \"\";width: 100%;border-bottom: 1px solid gray;flex-grow: 1;}#sk-container-id-1 div.sk-label:hover label.sk-toggleable__label {background-color: #d4ebff;}#sk-container-id-1 div.sk-serial::before {content: \"\";position: absolute;border-left: 1px solid gray;box-sizing: border-box;top: 0;bottom: 0;left: 50%;z-index: 0;}#sk-container-id-1 div.sk-serial {display: flex;flex-direction: column;align-items: center;background-color: white;padding-right: 0.2em;padding-left: 0.2em;position: relative;}#sk-container-id-1 div.sk-item {position: relative;z-index: 1;}#sk-container-id-1 div.sk-parallel {display: flex;align-items: stretch;justify-content: center;background-color: white;position: relative;}#sk-container-id-1 div.sk-item::before, #sk-container-id-1 div.sk-parallel-item::before {content: \"\";position: absolute;border-left: 1px solid gray;box-sizing: border-box;top: 0;bottom: 0;left: 50%;z-index: -1;}#sk-container-id-1 div.sk-parallel-item {display: flex;flex-direction: column;z-index: 1;position: relative;background-color: white;}#sk-container-id-1 div.sk-parallel-item:first-child::after {align-self: flex-end;width: 50%;}#sk-container-id-1 div.sk-parallel-item:last-child::after {align-self: flex-start;width: 50%;}#sk-container-id-1 div.sk-parallel-item:only-child::after {width: 0;}#sk-container-id-1 div.sk-dashed-wrapped {border: 1px dashed gray;margin: 0 0.4em 0.5em 0.4em;box-sizing: border-box;padding-bottom: 0.4em;background-color: white;}#sk-container-id-1 div.sk-label label {font-family: monospace;font-weight: bold;display: inline-block;line-height: 1.2em;}#sk-container-id-1 div.sk-label-container {text-align: center;}#sk-container-id-1 div.sk-container {/* jupyter's `normalize.less` sets `[hidden] { display: none; }` but bootstrap.min.css set `[hidden] { display: none !important; }` so we also need the `!important` here to be able to override the default hidden behavior on the sphinx rendered scikit-learn.org. See: https://github.com/scikit-learn/scikit-learn/issues/21755 */display: inline-block !important;position: relative;}#sk-container-id-1 div.sk-text-repr-fallback {display: none;}</style><div id=\"sk-container-id-1\" class=\"sk-top-container\"><div class=\"sk-text-repr-fallback\"><pre>SVC(C=10.0, random_state=1234)</pre><b>In a Jupyter environment, please rerun this cell to show the HTML representation or trust the notebook. <br />On GitHub, the HTML representation is unable to render, please try loading this page with nbviewer.org.</b></div><div class=\"sk-container\" hidden><div class=\"sk-item\"><div class=\"sk-estimator sk-toggleable\"><input class=\"sk-toggleable__control sk-hidden--visually\" id=\"sk-estimator-id-1\" type=\"checkbox\" checked><label for=\"sk-estimator-id-1\" class=\"sk-toggleable__label sk-toggleable__label-arrow\">SVC</label><div class=\"sk-toggleable__content\"><pre>SVC(C=10.0, random_state=1234)</pre></div></div></div></div></div>"
      ],
      "text/plain": [
       "SVC(C=10.0, random_state=1234)"
      ]
     },
     "execution_count": 25,
     "metadata": {},
     "output_type": "execute_result"
    }
   ],
   "source": [
    "# Instantiate SVM\n",
    "svc = SVC(**best_params_svc, random_state=RANDOM_SEED)\n",
    "\n",
    "\n",
    "# Fit the model to training data\n",
    "svc.fit(X_train_tfidf, y_train)"
   ]
  },
  {
   "cell_type": "code",
   "execution_count": 26,
   "metadata": {},
   "outputs": [],
   "source": [
    "# Predict the labels of the test set\n",
    "svc_pred_labels = svc.predict(X_test_tfidf)"
   ]
  },
  {
   "cell_type": "markdown",
   "metadata": {},
   "source": [
    "### Random Forest"
   ]
  },
  {
   "cell_type": "markdown",
   "metadata": {},
   "source": [
    "#### Grid search"
   ]
  },
  {
   "cell_type": "code",
   "execution_count": 27,
   "metadata": {},
   "outputs": [
    {
     "name": "stdout",
     "output_type": "stream",
     "text": [
      "RandomForestClassifier(min_samples_split=5, n_estimators=200, random_state=1234)\n"
     ]
    }
   ],
   "source": [
    "# Instantiate Random Forest\n",
    "rf = RandomForestClassifier(random_state=RANDOM_SEED)\n",
    "\n",
    "\n",
    "# Parameter grid dictionary\n",
    "grid_dict_rf = [\n",
    "    {'max_depth': [None, 10, 20], \n",
    "     'min_samples_split': [2, 5, 10],\n",
    "     'n_estimators':[50, 100, 200]}\n",
    "]\n",
    "\n",
    "\n",
    "# Instantiate GridSearchCV and fit it to the training data\n",
    "search_rf = GridSearchCV(rf, grid_dict_rf, cv=5, n_jobs=-1) \n",
    "search_rf.fit(X_train_tfidf, y_train)\n",
    "\n",
    "\n",
    "# Print the best estimator\n",
    "print(search_rf.best_estimator_)\n",
    "\n",
    "\n",
    "# Save the best parameters in a variable \n",
    "best_params_rf = search_rf.best_params_"
   ]
  },
  {
   "cell_type": "markdown",
   "metadata": {},
   "source": [
    "#### Final model"
   ]
  },
  {
   "cell_type": "code",
   "execution_count": 28,
   "metadata": {},
   "outputs": [
    {
     "data": {
      "text/html": [
       "<style>#sk-container-id-2 {color: black;}#sk-container-id-2 pre{padding: 0;}#sk-container-id-2 div.sk-toggleable {background-color: white;}#sk-container-id-2 label.sk-toggleable__label {cursor: pointer;display: block;width: 100%;margin-bottom: 0;padding: 0.3em;box-sizing: border-box;text-align: center;}#sk-container-id-2 label.sk-toggleable__label-arrow:before {content: \"▸\";float: left;margin-right: 0.25em;color: #696969;}#sk-container-id-2 label.sk-toggleable__label-arrow:hover:before {color: black;}#sk-container-id-2 div.sk-estimator:hover label.sk-toggleable__label-arrow:before {color: black;}#sk-container-id-2 div.sk-toggleable__content {max-height: 0;max-width: 0;overflow: hidden;text-align: left;background-color: #f0f8ff;}#sk-container-id-2 div.sk-toggleable__content pre {margin: 0.2em;color: black;border-radius: 0.25em;background-color: #f0f8ff;}#sk-container-id-2 input.sk-toggleable__control:checked~div.sk-toggleable__content {max-height: 200px;max-width: 100%;overflow: auto;}#sk-container-id-2 input.sk-toggleable__control:checked~label.sk-toggleable__label-arrow:before {content: \"▾\";}#sk-container-id-2 div.sk-estimator input.sk-toggleable__control:checked~label.sk-toggleable__label {background-color: #d4ebff;}#sk-container-id-2 div.sk-label input.sk-toggleable__control:checked~label.sk-toggleable__label {background-color: #d4ebff;}#sk-container-id-2 input.sk-hidden--visually {border: 0;clip: rect(1px 1px 1px 1px);clip: rect(1px, 1px, 1px, 1px);height: 1px;margin: -1px;overflow: hidden;padding: 0;position: absolute;width: 1px;}#sk-container-id-2 div.sk-estimator {font-family: monospace;background-color: #f0f8ff;border: 1px dotted black;border-radius: 0.25em;box-sizing: border-box;margin-bottom: 0.5em;}#sk-container-id-2 div.sk-estimator:hover {background-color: #d4ebff;}#sk-container-id-2 div.sk-parallel-item::after {content: \"\";width: 100%;border-bottom: 1px solid gray;flex-grow: 1;}#sk-container-id-2 div.sk-label:hover label.sk-toggleable__label {background-color: #d4ebff;}#sk-container-id-2 div.sk-serial::before {content: \"\";position: absolute;border-left: 1px solid gray;box-sizing: border-box;top: 0;bottom: 0;left: 50%;z-index: 0;}#sk-container-id-2 div.sk-serial {display: flex;flex-direction: column;align-items: center;background-color: white;padding-right: 0.2em;padding-left: 0.2em;position: relative;}#sk-container-id-2 div.sk-item {position: relative;z-index: 1;}#sk-container-id-2 div.sk-parallel {display: flex;align-items: stretch;justify-content: center;background-color: white;position: relative;}#sk-container-id-2 div.sk-item::before, #sk-container-id-2 div.sk-parallel-item::before {content: \"\";position: absolute;border-left: 1px solid gray;box-sizing: border-box;top: 0;bottom: 0;left: 50%;z-index: -1;}#sk-container-id-2 div.sk-parallel-item {display: flex;flex-direction: column;z-index: 1;position: relative;background-color: white;}#sk-container-id-2 div.sk-parallel-item:first-child::after {align-self: flex-end;width: 50%;}#sk-container-id-2 div.sk-parallel-item:last-child::after {align-self: flex-start;width: 50%;}#sk-container-id-2 div.sk-parallel-item:only-child::after {width: 0;}#sk-container-id-2 div.sk-dashed-wrapped {border: 1px dashed gray;margin: 0 0.4em 0.5em 0.4em;box-sizing: border-box;padding-bottom: 0.4em;background-color: white;}#sk-container-id-2 div.sk-label label {font-family: monospace;font-weight: bold;display: inline-block;line-height: 1.2em;}#sk-container-id-2 div.sk-label-container {text-align: center;}#sk-container-id-2 div.sk-container {/* jupyter's `normalize.less` sets `[hidden] { display: none; }` but bootstrap.min.css set `[hidden] { display: none !important; }` so we also need the `!important` here to be able to override the default hidden behavior on the sphinx rendered scikit-learn.org. See: https://github.com/scikit-learn/scikit-learn/issues/21755 */display: inline-block !important;position: relative;}#sk-container-id-2 div.sk-text-repr-fallback {display: none;}</style><div id=\"sk-container-id-2\" class=\"sk-top-container\"><div class=\"sk-text-repr-fallback\"><pre>RandomForestClassifier(min_samples_split=5, n_estimators=200, random_state=1234)</pre><b>In a Jupyter environment, please rerun this cell to show the HTML representation or trust the notebook. <br />On GitHub, the HTML representation is unable to render, please try loading this page with nbviewer.org.</b></div><div class=\"sk-container\" hidden><div class=\"sk-item\"><div class=\"sk-estimator sk-toggleable\"><input class=\"sk-toggleable__control sk-hidden--visually\" id=\"sk-estimator-id-2\" type=\"checkbox\" checked><label for=\"sk-estimator-id-2\" class=\"sk-toggleable__label sk-toggleable__label-arrow\">RandomForestClassifier</label><div class=\"sk-toggleable__content\"><pre>RandomForestClassifier(min_samples_split=5, n_estimators=200, random_state=1234)</pre></div></div></div></div></div>"
      ],
      "text/plain": [
       "RandomForestClassifier(min_samples_split=5, n_estimators=200, random_state=1234)"
      ]
     },
     "execution_count": 28,
     "metadata": {},
     "output_type": "execute_result"
    }
   ],
   "source": [
    "# Instantiate Random Forest\n",
    "rf = RandomForestClassifier(**best_params_rf, random_state=RANDOM_SEED)\n",
    "\n",
    "\n",
    "# Fit the model to training data\n",
    "rf.fit(X_train_tfidf, y_train)"
   ]
  },
  {
   "cell_type": "code",
   "execution_count": 29,
   "metadata": {},
   "outputs": [],
   "source": [
    "# Predict the labels of the test set\n",
    "rf_pred_labels = rf.predict(X_test_tfidf)"
   ]
  },
  {
   "cell_type": "markdown",
   "metadata": {},
   "source": [
    "### Multinomial Naive Bayes"
   ]
  },
  {
   "cell_type": "markdown",
   "metadata": {},
   "source": [
    "#### Grid search"
   ]
  },
  {
   "cell_type": "code",
   "execution_count": 30,
   "metadata": {},
   "outputs": [
    {
     "name": "stdout",
     "output_type": "stream",
     "text": [
      "MultinomialNB(alpha=0.01)\n"
     ]
    }
   ],
   "source": [
    "# Instantiate Multinomial Naive Bayes\n",
    "mnb = MultinomialNB()\n",
    "\n",
    "\n",
    "# Parameter grid dictionary\n",
    "grid_dict_mnb = [\n",
    "    {'alpha': [0.01, 0.1, 1]}\n",
    "]\n",
    "\n",
    "\n",
    "# Instantiate GridSearchCV and fit it to the training data\n",
    "search_mnb = GridSearchCV(mnb, grid_dict_mnb, cv=5, n_jobs=-1) \n",
    "search_mnb.fit(X_train_tfidf, y_train)\n",
    "\n",
    "\n",
    "# Print the best estimator\n",
    "print(search_mnb.best_estimator_)\n",
    "\n",
    "\n",
    "# Save the best parameters in a variable \n",
    "best_params_mnb = search_mnb.best_params_"
   ]
  },
  {
   "cell_type": "markdown",
   "metadata": {},
   "source": [
    "#### Final model"
   ]
  },
  {
   "cell_type": "code",
   "execution_count": 31,
   "metadata": {},
   "outputs": [
    {
     "data": {
      "text/html": [
       "<style>#sk-container-id-3 {color: black;}#sk-container-id-3 pre{padding: 0;}#sk-container-id-3 div.sk-toggleable {background-color: white;}#sk-container-id-3 label.sk-toggleable__label {cursor: pointer;display: block;width: 100%;margin-bottom: 0;padding: 0.3em;box-sizing: border-box;text-align: center;}#sk-container-id-3 label.sk-toggleable__label-arrow:before {content: \"▸\";float: left;margin-right: 0.25em;color: #696969;}#sk-container-id-3 label.sk-toggleable__label-arrow:hover:before {color: black;}#sk-container-id-3 div.sk-estimator:hover label.sk-toggleable__label-arrow:before {color: black;}#sk-container-id-3 div.sk-toggleable__content {max-height: 0;max-width: 0;overflow: hidden;text-align: left;background-color: #f0f8ff;}#sk-container-id-3 div.sk-toggleable__content pre {margin: 0.2em;color: black;border-radius: 0.25em;background-color: #f0f8ff;}#sk-container-id-3 input.sk-toggleable__control:checked~div.sk-toggleable__content {max-height: 200px;max-width: 100%;overflow: auto;}#sk-container-id-3 input.sk-toggleable__control:checked~label.sk-toggleable__label-arrow:before {content: \"▾\";}#sk-container-id-3 div.sk-estimator input.sk-toggleable__control:checked~label.sk-toggleable__label {background-color: #d4ebff;}#sk-container-id-3 div.sk-label input.sk-toggleable__control:checked~label.sk-toggleable__label {background-color: #d4ebff;}#sk-container-id-3 input.sk-hidden--visually {border: 0;clip: rect(1px 1px 1px 1px);clip: rect(1px, 1px, 1px, 1px);height: 1px;margin: -1px;overflow: hidden;padding: 0;position: absolute;width: 1px;}#sk-container-id-3 div.sk-estimator {font-family: monospace;background-color: #f0f8ff;border: 1px dotted black;border-radius: 0.25em;box-sizing: border-box;margin-bottom: 0.5em;}#sk-container-id-3 div.sk-estimator:hover {background-color: #d4ebff;}#sk-container-id-3 div.sk-parallel-item::after {content: \"\";width: 100%;border-bottom: 1px solid gray;flex-grow: 1;}#sk-container-id-3 div.sk-label:hover label.sk-toggleable__label {background-color: #d4ebff;}#sk-container-id-3 div.sk-serial::before {content: \"\";position: absolute;border-left: 1px solid gray;box-sizing: border-box;top: 0;bottom: 0;left: 50%;z-index: 0;}#sk-container-id-3 div.sk-serial {display: flex;flex-direction: column;align-items: center;background-color: white;padding-right: 0.2em;padding-left: 0.2em;position: relative;}#sk-container-id-3 div.sk-item {position: relative;z-index: 1;}#sk-container-id-3 div.sk-parallel {display: flex;align-items: stretch;justify-content: center;background-color: white;position: relative;}#sk-container-id-3 div.sk-item::before, #sk-container-id-3 div.sk-parallel-item::before {content: \"\";position: absolute;border-left: 1px solid gray;box-sizing: border-box;top: 0;bottom: 0;left: 50%;z-index: -1;}#sk-container-id-3 div.sk-parallel-item {display: flex;flex-direction: column;z-index: 1;position: relative;background-color: white;}#sk-container-id-3 div.sk-parallel-item:first-child::after {align-self: flex-end;width: 50%;}#sk-container-id-3 div.sk-parallel-item:last-child::after {align-self: flex-start;width: 50%;}#sk-container-id-3 div.sk-parallel-item:only-child::after {width: 0;}#sk-container-id-3 div.sk-dashed-wrapped {border: 1px dashed gray;margin: 0 0.4em 0.5em 0.4em;box-sizing: border-box;padding-bottom: 0.4em;background-color: white;}#sk-container-id-3 div.sk-label label {font-family: monospace;font-weight: bold;display: inline-block;line-height: 1.2em;}#sk-container-id-3 div.sk-label-container {text-align: center;}#sk-container-id-3 div.sk-container {/* jupyter's `normalize.less` sets `[hidden] { display: none; }` but bootstrap.min.css set `[hidden] { display: none !important; }` so we also need the `!important` here to be able to override the default hidden behavior on the sphinx rendered scikit-learn.org. See: https://github.com/scikit-learn/scikit-learn/issues/21755 */display: inline-block !important;position: relative;}#sk-container-id-3 div.sk-text-repr-fallback {display: none;}</style><div id=\"sk-container-id-3\" class=\"sk-top-container\"><div class=\"sk-text-repr-fallback\"><pre>MultinomialNB(alpha=0.01)</pre><b>In a Jupyter environment, please rerun this cell to show the HTML representation or trust the notebook. <br />On GitHub, the HTML representation is unable to render, please try loading this page with nbviewer.org.</b></div><div class=\"sk-container\" hidden><div class=\"sk-item\"><div class=\"sk-estimator sk-toggleable\"><input class=\"sk-toggleable__control sk-hidden--visually\" id=\"sk-estimator-id-3\" type=\"checkbox\" checked><label for=\"sk-estimator-id-3\" class=\"sk-toggleable__label sk-toggleable__label-arrow\">MultinomialNB</label><div class=\"sk-toggleable__content\"><pre>MultinomialNB(alpha=0.01)</pre></div></div></div></div></div>"
      ],
      "text/plain": [
       "MultinomialNB(alpha=0.01)"
      ]
     },
     "execution_count": 31,
     "metadata": {},
     "output_type": "execute_result"
    }
   ],
   "source": [
    "# Instantiate \n",
    "mnb = MultinomialNB(**best_params_mnb)\n",
    "\n",
    "\n",
    "# Fit the model to training data\n",
    "mnb.fit(X_train_tfidf, y_train)"
   ]
  },
  {
   "cell_type": "code",
   "execution_count": 32,
   "metadata": {},
   "outputs": [],
   "source": [
    "# Predict the labels of the test set\n",
    "mnb_pred_labels = mnb.predict(X_test_tfidf)"
   ]
  },
  {
   "cell_type": "markdown",
   "metadata": {},
   "source": [
    "## Model evaluation"
   ]
  },
  {
   "cell_type": "markdown",
   "metadata": {},
   "source": [
    "### Support Vector Machine/Classifier"
   ]
  },
  {
   "cell_type": "code",
   "execution_count": 46,
   "metadata": {},
   "outputs": [
    {
     "name": "stdout",
     "output_type": "stream",
     "text": [
      "SVC Results: \n",
      "Dataset:\t Pheme \n",
      "Model parameters: {'C': 10.0, 'kernel': 'rbf'} \n",
      "Accuracy:\t 0.8978395396808164 \n",
      "Precision:\t 0.8956928792644658 \n",
      "Recall:\t\t 0.8978395396808164 \n",
      "F1-score:\t 0.8917306368799299\n",
      "\n",
      "\n",
      "\n",
      "Classification report SVC (Pheme):\n",
      "\n",
      "              precision    recall  f1-score   support\n",
      "\n",
      "           0     0.8676    0.6329    0.7319      4059\n",
      "           1     0.9036    0.9727    0.9369     14363\n",
      "\n",
      "    accuracy                         0.8978     18422\n",
      "   macro avg     0.8856    0.8028    0.8344     18422\n",
      "weighted avg     0.8957    0.8978    0.8917     18422\n",
      "\n"
     ]
    }
   ],
   "source": [
    "# Calculate different performance measures\n",
    "accuracy_score_svc = accuracy_score(y_test , svc_pred_labels)\n",
    "precision_score_svc = precision_score(y_test , svc_pred_labels, average='weighted')\n",
    "recall_score_svc = recall_score(y_test, svc_pred_labels, average='weighted')\n",
    "f1_score_svc = f1_score(y_test, svc_pred_labels, average='weighted')\n",
    "\n",
    "\n",
    "# Print the different performance measures\n",
    "print(\"SVC Results:\",\n",
    "      \"\\nDataset:\\t Pheme\",\n",
    "      \"\\nModel parameters:\", search_svc.best_params_,\n",
    "      \"\\nAccuracy:\\t\", accuracy_score_svc,\n",
    "      \"\\nPrecision:\\t\", precision_score_svc, \n",
    "      \"\\nRecall:\\t\\t\",  recall_score_svc, \n",
    "      \"\\nF1-score:\\t\", f1_score_svc)\n",
    "\n",
    "\n",
    "# Classification report for SVC\n",
    "print('\\n\\n\\nClassification report SVC (Pheme):\\n')\n",
    "print(classification_report(y_test, svc_pred_labels, digits=4))"
   ]
  },
  {
   "cell_type": "markdown",
   "metadata": {},
   "source": [
    "### Random Forest"
   ]
  },
  {
   "cell_type": "code",
   "execution_count": 44,
   "metadata": {},
   "outputs": [
    {
     "name": "stdout",
     "output_type": "stream",
     "text": [
      "Random Forest Results: \n",
      "Dataset:\t Pheme \n",
      "Model parameters: {'max_depth': None, 'min_samples_split': 5, 'n_estimators': 200} \n",
      "Accuracy:\t 0.8918141352730431 \n",
      "Precision:\t 0.8890319513365355 \n",
      "Recall:\t\t 0.8918141352730431 \n",
      "F1-score:\t 0.8850344171588562\n",
      "\n",
      "\n",
      "\n",
      "Classification report Random Forest (Pheme):\n",
      "\n",
      "              precision    recall  f1-score   support\n",
      "\n",
      "           0     0.8540    0.6139    0.7143      4059\n",
      "           1     0.8989    0.9703    0.9333     14363\n",
      "\n",
      "    accuracy                         0.8918     18422\n",
      "   macro avg     0.8765    0.7921    0.8238     18422\n",
      "weighted avg     0.8890    0.8918    0.8850     18422\n",
      "\n"
     ]
    }
   ],
   "source": [
    "# Calculate different performance measures\n",
    "accuracy_score_rf = accuracy_score(y_test , rf_pred_labels)\n",
    "precision_score_rf = precision_score(y_test , rf_pred_labels, average='weighted')\n",
    "recall_score_rf = recall_score(y_test, rf_pred_labels, average='weighted')\n",
    "f1_score_rf = f1_score(y_test, rf_pred_labels, average='weighted')\n",
    "\n",
    "\n",
    "# Print the different performance measures\n",
    "print(\"Random Forest Results:\",\n",
    "      \"\\nDataset:\\t Pheme\",\n",
    "      \"\\nModel parameters:\", search_rf.best_params_,\n",
    "      \"\\nAccuracy:\\t\", accuracy_score_rf,\n",
    "      \"\\nPrecision:\\t\", precision_score_rf, \n",
    "      \"\\nRecall:\\t\\t\",  recall_score_rf, \n",
    "      \"\\nF1-score:\\t\", f1_score_rf)\n",
    "\n",
    "\n",
    "# Classification report for Random Forest\n",
    "print('\\n\\n\\nClassification report Random Forest (Pheme):\\n')\n",
    "print(classification_report(y_test, rf_pred_labels, digits=4))"
   ]
  },
  {
   "cell_type": "markdown",
   "metadata": {},
   "source": [
    "### Multinomial Naive Bayes"
   ]
  },
  {
   "cell_type": "code",
   "execution_count": 45,
   "metadata": {},
   "outputs": [
    {
     "name": "stdout",
     "output_type": "stream",
     "text": [
      "Multinomial Naive Bayes: \n",
      "Dataset:\t Pheme \n",
      "Model parameters: {'alpha': 0.01} \n",
      "Accuracy:\t 0.881880360438606 \n",
      "Precision:\t 0.8781545167514865 \n",
      "Recall:\t\t 0.881880360438606 \n",
      "F1-score:\t 0.8735775041534256\n",
      "\n",
      "\n",
      "\n",
      "Classification report Multinomial Naive Bayes (Pheme):\n",
      "\n",
      "              precision    recall  f1-score   support\n",
      "\n",
      "           0     0.8354    0.5777    0.6831      4059\n",
      "           1     0.8902    0.9678    0.9274     14363\n",
      "\n",
      "    accuracy                         0.8819     18422\n",
      "   macro avg     0.8628    0.7728    0.8052     18422\n",
      "weighted avg     0.8782    0.8819    0.8736     18422\n",
      "\n"
     ]
    }
   ],
   "source": [
    "# Calculate different performance measures\n",
    "accuracy_score_mnb = accuracy_score(y_test , mnb_pred_labels)\n",
    "precision_score_mnb = precision_score(y_test , mnb_pred_labels, average='weighted')\n",
    "recall_score_mnb = recall_score(y_test, mnb_pred_labels, average='weighted')\n",
    "f1_score_mnb = f1_score(y_test, mnb_pred_labels, average='weighted')\n",
    "\n",
    "\n",
    "# Print the different performance measures\n",
    "print(\"Multinomial Naive Bayes:\",\n",
    "      \"\\nDataset:\\t Pheme\",\n",
    "      \"\\nModel parameters:\", search_mnb.best_params_,\n",
    "      \"\\nAccuracy:\\t\", accuracy_score_mnb,\n",
    "      \"\\nPrecision:\\t\", precision_score_mnb, \n",
    "      \"\\nRecall:\\t\\t\",  recall_score_mnb, \n",
    "      \"\\nF1-score:\\t\", f1_score_mnb)\n",
    "\n",
    "\n",
    "# Classification report for Multinomial Naive Bayes\n",
    "print('\\n\\n\\nClassification report Multinomial Naive Bayes (Pheme):\\n')\n",
    "print(classification_report(y_test, mnb_pred_labels, digits=4))"
   ]
  },
  {
   "cell_type": "markdown",
   "metadata": {},
   "source": [
    "### AUC and AUPRC"
   ]
  },
  {
   "cell_type": "code",
   "execution_count": 42,
   "metadata": {},
   "outputs": [
    {
     "name": "stdout",
     "output_type": "stream",
     "text": [
      "Average Precision SVC (fake news): 0.8265274970671852\n",
      "Average Precision RF (fake news): 0.8259790042066092\n",
      "Average Precision MNB (fake news): 0.810561185687016\n",
      "Average Precision SVC (real news): 0.9724396356341547\n",
      "Average Precision RF (real news): 0.9678219875958213\n",
      "Average Precision MNB (real news): 0.9746989978594113\n"
     ]
    },
    {
     "data": {
      "image/png": "[encoded data removed]",
      "text/plain": [
       "<Figure size 1000x1000 with 4 Axes>"
      ]
     },
     "metadata": {},
     "output_type": "display_data"
    }
   ],
   "source": [
    "# Create plot canvas with subplot spaces\n",
    "fig, axs = plt.subplots(2, 2, figsize=(10, 10))\n",
    "\n",
    "# AUPRC\n",
    "print('Average Precision SVC (fake news):',\n",
    "    PrecisionRecallDisplay.from_estimator(\n",
    "    svc, X_test_tfidf, y_test, pos_label=mnb.classes_[0], ax=axs[0, 0]).average_precision)\n",
    "\n",
    "print('Average Precision RF (fake news):',\n",
    "    PrecisionRecallDisplay.from_estimator(\n",
    "    rf, X_test_tfidf, y_test, pos_label=mnb.classes_[0], ax=axs[0, 0]).average_precision)\n",
    "\n",
    "print('Average Precision MNB (fake news):',\n",
    "    PrecisionRecallDisplay.from_estimator(\n",
    "    mnb, X_test_tfidf, y_test, pos_label=mnb.classes_[0], ax=axs[0, 0],\n",
    "    plot_chance_level=True).average_precision)\n",
    "\n",
    "print('Average Precision SVC (real news):',\n",
    "    PrecisionRecallDisplay.from_estimator(\n",
    "    svc, X_test_tfidf, y_test, pos_label=mnb.classes_[1], ax=axs[0, 1]).average_precision)\n",
    "\n",
    "print('Average Precision RF (real news):',\n",
    "    PrecisionRecallDisplay.from_estimator(\n",
    "    rf, X_test_tfidf, y_test, pos_label=mnb.classes_[1], ax=axs[0, 1]).average_precision)\n",
    "\n",
    "print('Average Precision MNB (real news):',\n",
    "    PrecisionRecallDisplay.from_estimator(\n",
    "    mnb, X_test_tfidf, y_test, pos_label=mnb.classes_[1], ax=axs[0, 1],\n",
    "    plot_chance_level=True).average_precision)\n",
    "\n",
    "axs[0, 0].set_title('AUPRC\\nFake News as Positive Class')\n",
    "axs[0, 1].set_title('AUPRC\\nReal News as Positive Class')\n",
    "\n",
    "\n",
    "# AUC\n",
    "RocCurveDisplay.from_estimator(\n",
    "    svc, X_test_tfidf, y_test, pos_label=mnb.classes_[0], ax=axs[1, 0])\n",
    "\n",
    "RocCurveDisplay.from_estimator(\n",
    "    rf, X_test_tfidf, y_test, pos_label=mnb.classes_[0], ax=axs[1, 0])\n",
    "\n",
    "RocCurveDisplay.from_estimator(\n",
    "    mnb, X_test_tfidf, y_test, pos_label=mnb.classes_[0], ax=axs[1, 0],\n",
    "    plot_chance_level=True)\n",
    "\n",
    "RocCurveDisplay.from_estimator(\n",
    "    svc, X_test_tfidf, y_test, pos_label=mnb.classes_[1], ax=axs[1, 1])\n",
    "\n",
    "RocCurveDisplay.from_estimator(\n",
    "    rf, X_test_tfidf, y_test, pos_label=mnb.classes_[1], ax=axs[1, 1])\n",
    "\n",
    "RocCurveDisplay.from_estimator(\n",
    "    mnb, X_test_tfidf, y_test, pos_label=mnb.classes_[1], ax=axs[1, 1],\n",
    "    plot_chance_level=True)\n",
    "\n",
    "axs[1, 0].set_title('ROC-AUC\\nFake News as Positive Class')\n",
    "axs[1, 1].set_title('ROC-AUC\\nReal News as Positive Class')\n",
    "\n",
    "plt.tight_layout()"
   ]
  }
 ],
 "metadata": {
  "kernelspec": {
   "display_name": "base",
   "language": "python",
   "name": "python3"
  },
  "language_info": {
   "codemirror_mode": {
    "name": "ipython",
    "version": 3
   },
   "file_extension": ".py",
   "mimetype": "text/x-python",
   "name": "python",
   "nbconvert_exporter": "python",
   "pygments_lexer": "ipython3",
   "version": "3.9.16"
  }
 },
 "nbformat": 4,
 "nbformat_minor": 2
}
