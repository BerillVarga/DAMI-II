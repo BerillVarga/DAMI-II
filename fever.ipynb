{
 "cells": [
  {
   "cell_type": "markdown",
   "metadata": {},
   "source": [
    "# FEVER dataset - Fake new detection"
   ]
  },
  {
   "cell_type": "code",
   "execution_count": 2,
   "metadata": {},
   "outputs": [],
   "source": [
    "# IMPORT\n",
    "\n",
    "# Base libraries\n",
    "import pandas as pd\n",
    "import numpy as np\n",
    "\n",
    "# JSON for loading of data\n",
    "import json\n",
    "\n",
    "# NLP preprocessing\n",
    "from nltk.tokenize import word_tokenize\n",
    "from nltk.stem import WordNetLemmatizer\n",
    "from nltk.corpus import stopwords \n",
    "\n",
    "# Split and feature engineering\n",
    "from sklearn.model_selection import train_test_split\n",
    "from sklearn.feature_extraction.text import TfidfVectorizer\n",
    "\n",
    "# Model training\n",
    "from sklearn.model_selection import GridSearchCV\n",
    "from sklearn.svm import SVC\n",
    "from sklearn.ensemble import RandomForestClassifier\n",
    "from sklearn.naive_bayes import MultinomialNB\n",
    "\n",
    "# Evaluation\n",
    "from sklearn.metrics import precision_score, recall_score, f1_score, accuracy_score\n",
    "from sklearn.metrics import classification_report\n",
    "\n",
    "# Plot\n",
    "import matplotlib.pyplot as plt\n",
    "from sklearn.metrics import RocCurveDisplay\n",
    "from sklearn.metrics import PrecisionRecallDisplay\n",
    "\n",
    "# Set random seed\n",
    "RANDOM_SEED = 1234"
   ]
  },
  {
   "cell_type": "markdown",
   "metadata": {},
   "source": [
    "## Preprocessing"
   ]
  },
  {
   "cell_type": "markdown",
   "metadata": {},
   "source": [
    "### Loading the data and descriptive statisitics"
   ]
  },
  {
   "cell_type": "code",
   "execution_count": 3,
   "metadata": {},
   "outputs": [],
   "source": [
    "# File paths\n",
    "fever_test_path = \"FEVER/test.jsonl\"\n",
    "fever_train_path = \"FEVER/train.jsonl\"\n",
    "\n",
    "\n",
    "# Load test data \n",
    "with open(fever_test_path, 'r') as json_file:\n",
    "    lines = json_file.read().splitlines()\n",
    "fever_test = pd.DataFrame(lines)\n",
    "fever_test.columns = ['json_element']\n",
    "fever_test['json_element'].apply(json.loads)\n",
    "\n",
    "fever_test = pd.json_normalize(fever_test['json_element'].apply(json.loads))\n",
    "\n",
    "\n",
    "# Load train data\n",
    "with open(fever_train_path, 'r') as json_file:\n",
    "    lines = json_file.read().splitlines()\n",
    "fever_train = pd.DataFrame(lines)\n",
    "fever_train.columns = ['json_element']\n",
    "fever_train['json_element'].apply(json.loads)\n",
    "\n",
    "fever_train = pd.json_normalize(fever_train['json_element'].apply(json.loads))\n",
    "\n",
    "\n",
    "# Merge the two datasets (test+train)\n",
    "fever = pd.concat([fever_test, fever_train], axis=0, ignore_index=True)"
   ]
  },
  {
   "cell_type": "markdown",
   "metadata": {},
   "source": [
    "#### Handeling the label column"
   ]
  },
  {
   "cell_type": "code",
   "execution_count": 4,
   "metadata": {},
   "outputs": [],
   "source": [
    "# Remove the instances with the label 'NOT ENOUGH INFO'\n",
    "fever = fever[fever['label'] != 'NOT ENOUGH INFO']\n",
    "\n",
    "\n",
    "# Change the label encoding to 1 ('REFUTES', fake) and 0 ('SUPPORTS', real)\n",
    "fever = fever.replace({'label':{'SUPPORTS': 1, 'REFUTES': 0}})\n",
    "\n",
    "\n",
    "# Rename the 'label' column to 'is_real' (for easier understanding of the values)\n",
    "fever.rename(columns={'label': 'is_real'}, inplace=True)"
   ]
  },
  {
   "cell_type": "code",
   "execution_count": 5,
   "metadata": {},
   "outputs": [],
   "source": [
    "# Remove duplicates\n",
    "fever  = fever.drop_duplicates(subset=('is_real', 'claim'))"
   ]
  },
  {
   "cell_type": "code",
   "execution_count": 6,
   "metadata": {},
   "outputs": [],
   "source": [
    "# Sample 50000 instances\n",
    "fever_sample = fever.sample(50000, axis='index', random_state=RANDOM_SEED)"
   ]
  },
  {
   "cell_type": "code",
   "execution_count": 7,
   "metadata": {},
   "outputs": [
    {
     "data": {
      "text/html": [
       "<div>\n",
       "<style scoped>\n",
       "    .dataframe tbody tr th:only-of-type {\n",
       "        vertical-align: middle;\n",
       "    }\n",
       "\n",
       "    .dataframe tbody tr th {\n",
       "        vertical-align: top;\n",
       "    }\n",
       "\n",
       "    .dataframe thead th {\n",
       "        text-align: right;\n",
       "    }\n",
       "</style>\n",
       "<table border=\"1\" class=\"dataframe\">\n",
       "  <thead>\n",
       "    <tr style=\"text-align: right;\">\n",
       "      <th></th>\n",
       "      <th>id</th>\n",
       "      <th>verifiable</th>\n",
       "      <th>is_real</th>\n",
       "      <th>claim</th>\n",
       "      <th>evidence</th>\n",
       "    </tr>\n",
       "  </thead>\n",
       "  <tbody>\n",
       "    <tr>\n",
       "      <th>73794</th>\n",
       "      <td>18697</td>\n",
       "      <td>VERIFIABLE</td>\n",
       "      <td>1</td>\n",
       "      <td>Sue Bird was the first overall pick of the 200...</td>\n",
       "      <td>[[[34315, 41629, Sue_Bird, 1]]]</td>\n",
       "    </tr>\n",
       "    <tr>\n",
       "      <th>93617</th>\n",
       "      <td>50780</td>\n",
       "      <td>VERIFIABLE</td>\n",
       "      <td>0</td>\n",
       "      <td>Clint Eastwood is not a director.</td>\n",
       "      <td>[[[67127, 77925, Clint_Eastwood, 5]], [[67127,...</td>\n",
       "    </tr>\n",
       "    <tr>\n",
       "      <th>73294</th>\n",
       "      <td>106034</td>\n",
       "      <td>VERIFIABLE</td>\n",
       "      <td>1</td>\n",
       "      <td>Kong: Skull Island was made in 2017 by Legenda...</td>\n",
       "      <td>[[[125235, 139571, Kong-COLON-_Skull_Island, 1...</td>\n",
       "    </tr>\n",
       "    <tr>\n",
       "      <th>151047</th>\n",
       "      <td>50433</td>\n",
       "      <td>VERIFIABLE</td>\n",
       "      <td>1</td>\n",
       "      <td>Michael Caine starred in Get Carter.</td>\n",
       "      <td>[[[66789, 77619, Michael_Caine, 5]]]</td>\n",
       "    </tr>\n",
       "    <tr>\n",
       "      <th>123591</th>\n",
       "      <td>113441</td>\n",
       "      <td>VERIFIABLE</td>\n",
       "      <td>0</td>\n",
       "      <td>Red Velvet (band) is incapable of being formed...</td>\n",
       "      <td>[[[133080, 147957, Red_Velvet_-LRB-band-RRB-, ...</td>\n",
       "    </tr>\n",
       "    <tr>\n",
       "      <th>145856</th>\n",
       "      <td>124812</td>\n",
       "      <td>VERIFIABLE</td>\n",
       "      <td>1</td>\n",
       "      <td>The Communist Party of the Soviet Union was th...</td>\n",
       "      <td>[[[146491, 161469, Communist_Party_of_the_Sovi...</td>\n",
       "    </tr>\n",
       "    <tr>\n",
       "      <th>117583</th>\n",
       "      <td>21532</td>\n",
       "      <td>VERIFIABLE</td>\n",
       "      <td>1</td>\n",
       "      <td>Apollo 11 was launched from Merritt Island, Fl...</td>\n",
       "      <td>[[[37316, 45182, Apollo_11, 8]]]</td>\n",
       "    </tr>\n",
       "    <tr>\n",
       "      <th>42885</th>\n",
       "      <td>216557</td>\n",
       "      <td>VERIFIABLE</td>\n",
       "      <td>0</td>\n",
       "      <td>The Who is a funk band.</td>\n",
       "      <td>[[[257290, 256312, The_Who, 0]]]</td>\n",
       "    </tr>\n",
       "    <tr>\n",
       "      <th>161559</th>\n",
       "      <td>75944</td>\n",
       "      <td>VERIFIABLE</td>\n",
       "      <td>1</td>\n",
       "      <td>Glenn Frey cowrote most Eagles songs with Don ...</td>\n",
       "      <td>[[[92756, 105622, Glenn_Frey, 1]]]</td>\n",
       "    </tr>\n",
       "    <tr>\n",
       "      <th>19535</th>\n",
       "      <td>13815</td>\n",
       "      <td>VERIFIABLE</td>\n",
       "      <td>1</td>\n",
       "      <td>Theresa May worked for Bank of England.</td>\n",
       "      <td>[[[29066, 35459, Theresa_May, 6]]]</td>\n",
       "    </tr>\n",
       "  </tbody>\n",
       "</table>\n",
       "</div>"
      ],
      "text/plain": [
       "            id  verifiable  is_real  \\\n",
       "73794    18697  VERIFIABLE        1   \n",
       "93617    50780  VERIFIABLE        0   \n",
       "73294   106034  VERIFIABLE        1   \n",
       "151047   50433  VERIFIABLE        1   \n",
       "123591  113441  VERIFIABLE        0   \n",
       "145856  124812  VERIFIABLE        1   \n",
       "117583   21532  VERIFIABLE        1   \n",
       "42885   216557  VERIFIABLE        0   \n",
       "161559   75944  VERIFIABLE        1   \n",
       "19535    13815  VERIFIABLE        1   \n",
       "\n",
       "                                                    claim  \\\n",
       "73794   Sue Bird was the first overall pick of the 200...   \n",
       "93617                   Clint Eastwood is not a director.   \n",
       "73294   Kong: Skull Island was made in 2017 by Legenda...   \n",
       "151047               Michael Caine starred in Get Carter.   \n",
       "123591  Red Velvet (band) is incapable of being formed...   \n",
       "145856  The Communist Party of the Soviet Union was th...   \n",
       "117583  Apollo 11 was launched from Merritt Island, Fl...   \n",
       "42885                             The Who is a funk band.   \n",
       "161559  Glenn Frey cowrote most Eagles songs with Don ...   \n",
       "19535             Theresa May worked for Bank of England.   \n",
       "\n",
       "                                                 evidence  \n",
       "73794                     [[[34315, 41629, Sue_Bird, 1]]]  \n",
       "93617   [[[67127, 77925, Clint_Eastwood, 5]], [[67127,...  \n",
       "73294   [[[125235, 139571, Kong-COLON-_Skull_Island, 1...  \n",
       "151047               [[[66789, 77619, Michael_Caine, 5]]]  \n",
       "123591  [[[133080, 147957, Red_Velvet_-LRB-band-RRB-, ...  \n",
       "145856  [[[146491, 161469, Communist_Party_of_the_Sovi...  \n",
       "117583                   [[[37316, 45182, Apollo_11, 8]]]  \n",
       "42885                    [[[257290, 256312, The_Who, 0]]]  \n",
       "161559                 [[[92756, 105622, Glenn_Frey, 1]]]  \n",
       "19535                  [[[29066, 35459, Theresa_May, 6]]]  "
      ]
     },
     "execution_count": 7,
     "metadata": {},
     "output_type": "execute_result"
    }
   ],
   "source": [
    "# Head of the dataset \n",
    "fever_sample.head(10)"
   ]
  },
  {
   "cell_type": "markdown",
   "metadata": {},
   "source": [
    "#### Handeling the other columns"
   ]
  },
  {
   "cell_type": "code",
   "execution_count": 8,
   "metadata": {},
   "outputs": [],
   "source": [
    "# Remove unnecessary features from the dataset\n",
    "fever_sample = fever_sample.drop(columns=['id', 'verifiable', 'evidence'])\n",
    "\n",
    "\n",
    "# Rename the 'claim' column to 'text'\n",
    "fever_sample.rename(columns={'claim': 'text'}, inplace=True)"
   ]
  },
  {
   "cell_type": "markdown",
   "metadata": {},
   "source": [
    "#### General info about the final dataset"
   ]
  },
  {
   "cell_type": "code",
   "execution_count": 9,
   "metadata": {},
   "outputs": [
    {
     "data": {
      "text/plain": [
       "(50000, 2)"
      ]
     },
     "execution_count": 9,
     "metadata": {},
     "output_type": "execute_result"
    }
   ],
   "source": [
    "# Shape of data object\n",
    "fever_sample.shape"
   ]
  },
  {
   "cell_type": "code",
   "execution_count": 10,
   "metadata": {},
   "outputs": [
    {
     "name": "stdout",
     "output_type": "stream",
     "text": [
      "<class 'pandas.core.frame.DataFrame'>\n",
      "Int64Index: 50000 entries, 73794 to 104460\n",
      "Data columns (total 2 columns):\n",
      " #   Column   Non-Null Count  Dtype \n",
      "---  ------   --------------  ----- \n",
      " 0   is_real  50000 non-null  int64 \n",
      " 1   text     50000 non-null  object\n",
      "dtypes: int64(1), object(1)\n",
      "memory usage: 1.1+ MB\n"
     ]
    }
   ],
   "source": [
    "# Info about data object\n",
    "fever_sample.info()"
   ]
  },
  {
   "cell_type": "code",
   "execution_count": 11,
   "metadata": {},
   "outputs": [
    {
     "data": {
      "text/plain": [
       "Index(['is_real', 'text'], dtype='object')"
      ]
     },
     "execution_count": 11,
     "metadata": {},
     "output_type": "execute_result"
    }
   ],
   "source": [
    "# Column names of dataframe\n",
    "fever_sample.columns"
   ]
  },
  {
   "cell_type": "markdown",
   "metadata": {},
   "source": [
    "### Missing values"
   ]
  },
  {
   "cell_type": "code",
   "execution_count": 12,
   "metadata": {},
   "outputs": [
    {
     "data": {
      "text/plain": [
       "0"
      ]
     },
     "execution_count": 12,
     "metadata": {},
     "output_type": "execute_result"
    }
   ],
   "source": [
    "# Check how many missing values there are in the dataset\n",
    "fever_sample.isnull().sum().sum()"
   ]
  },
  {
   "cell_type": "code",
   "execution_count": 13,
   "metadata": {},
   "outputs": [
    {
     "name": "stdout",
     "output_type": "stream",
     "text": [
      "[1 0]\n"
     ]
    }
   ],
   "source": [
    "# Check the distinct values in the 'is_real' column\n",
    "print(fever_sample['is_real'].unique())"
   ]
  },
  {
   "cell_type": "code",
   "execution_count": 14,
   "metadata": {},
   "outputs": [
    {
     "data": {
      "text/plain": [
       "1    34910\n",
       "0    15090\n",
       "Name: is_real, dtype: int64"
      ]
     },
     "execution_count": 14,
     "metadata": {},
     "output_type": "execute_result"
    }
   ],
   "source": [
    "# Number of instances with label ('is_real') 0 and 1\n",
    "fever_sample[\"is_real\"].value_counts()"
   ]
  },
  {
   "cell_type": "markdown",
   "metadata": {},
   "source": [
    "### Preparing data for analysis"
   ]
  },
  {
   "cell_type": "markdown",
   "metadata": {},
   "source": [
    "#### Tokenization"
   ]
  },
  {
   "cell_type": "code",
   "execution_count": 15,
   "metadata": {},
   "outputs": [],
   "source": [
    "# Create new column with tokens\n",
    "fever_sample['tokens'] = fever_sample.apply(lambda row: word_tokenize(row['text']), axis=1)"
   ]
  },
  {
   "cell_type": "markdown",
   "metadata": {},
   "source": [
    "#### Lemmatization"
   ]
  },
  {
   "cell_type": "code",
   "execution_count": 16,
   "metadata": {},
   "outputs": [],
   "source": [
    "# Instantiate the lemmatizer\n",
    "lemmatizer = WordNetLemmatizer()\n",
    "\n",
    "\n",
    "# Create new column with lemmas\n",
    "fever_sample['lemma'] = fever_sample.apply(lambda row: [lemmatizer.lemmatize(token.lower()) for token in row[\"tokens\"]], axis=1)"
   ]
  },
  {
   "cell_type": "markdown",
   "metadata": {},
   "source": [
    "#### Stopword removal"
   ]
  },
  {
   "cell_type": "code",
   "execution_count": 17,
   "metadata": {},
   "outputs": [],
   "source": [
    "# Load the english stopwords\n",
    "english_stop_words = stopwords.words('english')\n",
    "\n",
    "\n",
    "# Create new column without stopwords\n",
    "fever_sample['stopword'] = fever_sample.apply(lambda row: [token for token in row[\"lemma\"] if token not in english_stop_words], axis=1)"
   ]
  },
  {
   "cell_type": "markdown",
   "metadata": {},
   "source": [
    "#### Final string creation"
   ]
  },
  {
   "cell_type": "code",
   "execution_count": 18,
   "metadata": {},
   "outputs": [],
   "source": [
    "# Create new column with joined tokens (as TD-IDF takes a string as input)\n",
    "fever_sample['final'] = fever_sample.apply(lambda row: \" \".join(row['stopword']), axis=1)"
   ]
  },
  {
   "cell_type": "code",
   "execution_count": 19,
   "metadata": {},
   "outputs": [
    {
     "data": {
      "text/html": [
       "<div>\n",
       "<style scoped>\n",
       "    .dataframe tbody tr th:only-of-type {\n",
       "        vertical-align: middle;\n",
       "    }\n",
       "\n",
       "    .dataframe tbody tr th {\n",
       "        vertical-align: top;\n",
       "    }\n",
       "\n",
       "    .dataframe thead th {\n",
       "        text-align: right;\n",
       "    }\n",
       "</style>\n",
       "<table border=\"1\" class=\"dataframe\">\n",
       "  <thead>\n",
       "    <tr style=\"text-align: right;\">\n",
       "      <th></th>\n",
       "      <th>is_real</th>\n",
       "      <th>text</th>\n",
       "      <th>tokens</th>\n",
       "      <th>lemma</th>\n",
       "      <th>stopword</th>\n",
       "      <th>final</th>\n",
       "    </tr>\n",
       "  </thead>\n",
       "  <tbody>\n",
       "    <tr>\n",
       "      <th>73794</th>\n",
       "      <td>1</td>\n",
       "      <td>Sue Bird was the first overall pick of the 200...</td>\n",
       "      <td>[Sue, Bird, was, the, first, overall, pick, of...</td>\n",
       "      <td>[sue, bird, wa, the, first, overall, pick, of,...</td>\n",
       "      <td>[sue, bird, wa, first, overall, pick, 2002, wn...</td>\n",
       "      <td>sue bird wa first overall pick 2002 wnba draft .</td>\n",
       "    </tr>\n",
       "    <tr>\n",
       "      <th>93617</th>\n",
       "      <td>0</td>\n",
       "      <td>Clint Eastwood is not a director.</td>\n",
       "      <td>[Clint, Eastwood, is, not, a, director, .]</td>\n",
       "      <td>[clint, eastwood, is, not, a, director, .]</td>\n",
       "      <td>[clint, eastwood, director, .]</td>\n",
       "      <td>clint eastwood director .</td>\n",
       "    </tr>\n",
       "    <tr>\n",
       "      <th>73294</th>\n",
       "      <td>1</td>\n",
       "      <td>Kong: Skull Island was made in 2017 by Legenda...</td>\n",
       "      <td>[Kong, :, Skull, Island, was, made, in, 2017, ...</td>\n",
       "      <td>[kong, :, skull, island, wa, made, in, 2017, b...</td>\n",
       "      <td>[kong, :, skull, island, wa, made, 2017, legen...</td>\n",
       "      <td>kong : skull island wa made 2017 legendary ent...</td>\n",
       "    </tr>\n",
       "    <tr>\n",
       "      <th>151047</th>\n",
       "      <td>1</td>\n",
       "      <td>Michael Caine starred in Get Carter.</td>\n",
       "      <td>[Michael, Caine, starred, in, Get, Carter, .]</td>\n",
       "      <td>[michael, caine, starred, in, get, carter, .]</td>\n",
       "      <td>[michael, caine, starred, get, carter, .]</td>\n",
       "      <td>michael caine starred get carter .</td>\n",
       "    </tr>\n",
       "    <tr>\n",
       "      <th>123591</th>\n",
       "      <td>0</td>\n",
       "      <td>Red Velvet (band) is incapable of being formed...</td>\n",
       "      <td>[Red, Velvet, (, band, ), is, incapable, of, b...</td>\n",
       "      <td>[red, velvet, (, band, ), is, incapable, of, b...</td>\n",
       "      <td>[red, velvet, (, band, ), incapable, formed, s...</td>\n",
       "      <td>red velvet ( band ) incapable formed s.m . ent...</td>\n",
       "    </tr>\n",
       "  </tbody>\n",
       "</table>\n",
       "</div>"
      ],
      "text/plain": [
       "        is_real                                               text  \\\n",
       "73794         1  Sue Bird was the first overall pick of the 200...   \n",
       "93617         0                  Clint Eastwood is not a director.   \n",
       "73294         1  Kong: Skull Island was made in 2017 by Legenda...   \n",
       "151047        1               Michael Caine starred in Get Carter.   \n",
       "123591        0  Red Velvet (band) is incapable of being formed...   \n",
       "\n",
       "                                                   tokens  \\\n",
       "73794   [Sue, Bird, was, the, first, overall, pick, of...   \n",
       "93617          [Clint, Eastwood, is, not, a, director, .]   \n",
       "73294   [Kong, :, Skull, Island, was, made, in, 2017, ...   \n",
       "151047      [Michael, Caine, starred, in, Get, Carter, .]   \n",
       "123591  [Red, Velvet, (, band, ), is, incapable, of, b...   \n",
       "\n",
       "                                                    lemma  \\\n",
       "73794   [sue, bird, wa, the, first, overall, pick, of,...   \n",
       "93617          [clint, eastwood, is, not, a, director, .]   \n",
       "73294   [kong, :, skull, island, wa, made, in, 2017, b...   \n",
       "151047      [michael, caine, starred, in, get, carter, .]   \n",
       "123591  [red, velvet, (, band, ), is, incapable, of, b...   \n",
       "\n",
       "                                                 stopword  \\\n",
       "73794   [sue, bird, wa, first, overall, pick, 2002, wn...   \n",
       "93617                      [clint, eastwood, director, .]   \n",
       "73294   [kong, :, skull, island, wa, made, 2017, legen...   \n",
       "151047          [michael, caine, starred, get, carter, .]   \n",
       "123591  [red, velvet, (, band, ), incapable, formed, s...   \n",
       "\n",
       "                                                    final  \n",
       "73794    sue bird wa first overall pick 2002 wnba draft .  \n",
       "93617                           clint eastwood director .  \n",
       "73294   kong : skull island wa made 2017 legendary ent...  \n",
       "151047                 michael caine starred get carter .  \n",
       "123591  red velvet ( band ) incapable formed s.m . ent...  "
      ]
     },
     "execution_count": 19,
     "metadata": {},
     "output_type": "execute_result"
    }
   ],
   "source": [
    "# Head of the created dataaset\n",
    "fever_sample.head()"
   ]
  },
  {
   "cell_type": "markdown",
   "metadata": {},
   "source": [
    "#### Splitting data and feature engineering"
   ]
  },
  {
   "cell_type": "markdown",
   "metadata": {},
   "source": [
    "##### Splitting"
   ]
  },
  {
   "cell_type": "code",
   "execution_count": 20,
   "metadata": {},
   "outputs": [],
   "source": [
    "# Split the data into train set and test set (70/30 split)\n",
    "X_train, X_test, y_train, y_test = train_test_split(fever_sample['final'], fever_sample['is_real'], test_size=0.3, random_state=RANDOM_SEED, stratify=fever_sample['is_real'])"
   ]
  },
  {
   "cell_type": "markdown",
   "metadata": {},
   "source": [
    "##### TF-IDF"
   ]
  },
  {
   "cell_type": "code",
   "execution_count": 21,
   "metadata": {},
   "outputs": [],
   "source": [
    "# Initialize vectorizer with token pattern to remove numbers, single characters and \n",
    "# non-latin alphabet characters\n",
    "vectorizer = TfidfVectorizer(token_pattern=r'(?u)\\b[A-Za-z]{3,}\\b')\n",
    "\n",
    "\n",
    "# Fit-transform to taining data\n",
    "X_train_tfidf = vectorizer.fit_transform(X_train)\n",
    "\n",
    "\n",
    "# Transform test data\n",
    "X_test_tfidf = vectorizer.transform(X_test)"
   ]
  },
  {
   "cell_type": "code",
   "execution_count": 22,
   "metadata": {},
   "outputs": [],
   "source": [
    "# # Matrix to see the result\n",
    "# df_train_tfidf = pd.DataFrame(X_train_tfidf.toarray(), columns=vectorizer.get_feature_names_out(), index=range(1, len(X_train)+1))\n",
    "\n",
    "\n",
    "# # Display the TF-IDF matrix\n",
    "# print(\"TF-IDF Matrix:\")\n",
    "# print(df_train_tfidf.head())"
   ]
  },
  {
   "cell_type": "code",
   "execution_count": 23,
   "metadata": {},
   "outputs": [],
   "source": [
    "# # Matrix to see the result\n",
    "# df_test_tfidf = pd.DataFrame(X_test_tfidf.toarray(), columns=vectorizer.get_feature_names_out(), index=range(1, len(X_test)+1))\n",
    "\n",
    "\n",
    "# # Display the TF-IDF matrix\n",
    "# print(\"TF-IDF Matrix:\")\n",
    "# print(df_test_tfidf.head())"
   ]
  },
  {
   "cell_type": "markdown",
   "metadata": {},
   "source": [
    "## Model training"
   ]
  },
  {
   "cell_type": "markdown",
   "metadata": {},
   "source": [
    "### Support Vector Machine/Classifier"
   ]
  },
  {
   "cell_type": "code",
   "execution_count": 24,
   "metadata": {},
   "outputs": [
    {
     "name": "stdout",
     "output_type": "stream",
     "text": [
      "SVC(kernel='linear', random_state=1234)\n"
     ]
    }
   ],
   "source": [
    "# Instantiate SVM\n",
    "svc = SVC(random_state=RANDOM_SEED)\n",
    "\n",
    "\n",
    "# Parameter grid dictionary\n",
    "param_grid_svc = [\n",
    "    {'C':[1.0, 10.0, 100.0], \n",
    "     'kernel':['linear', 'poly', 'rbf']}\n",
    "]\n",
    "\n",
    "\n",
    "# Instantiate GridSearchCV and fit it to the training data\n",
    "search_svc = GridSearchCV(svc, param_grid_svc, cv=5, n_jobs=-1)\n",
    "search_svc.fit(X_train_tfidf, y_train)\n",
    "\n",
    "\n",
    "# Print the best estimator\n",
    "print(search_svc.best_estimator_)\n",
    "\n",
    "\n",
    "# Save the best parameters in a variable \n",
    "best_params_svc = search_svc.best_params_"
   ]
  },
  {
   "cell_type": "markdown",
   "metadata": {},
   "source": [
    "#### Final model"
   ]
  },
  {
   "cell_type": "code",
   "execution_count": 25,
   "metadata": {},
   "outputs": [
    {
     "data": {
      "text/html": [
       "<style>#sk-container-id-1 {color: black;}#sk-container-id-1 pre{padding: 0;}#sk-container-id-1 div.sk-toggleable {background-color: white;}#sk-container-id-1 label.sk-toggleable__label {cursor: pointer;display: block;width: 100%;margin-bottom: 0;padding: 0.3em;box-sizing: border-box;text-align: center;}#sk-container-id-1 label.sk-toggleable__label-arrow:before {content: \"▸\";float: left;margin-right: 0.25em;color: #696969;}#sk-container-id-1 label.sk-toggleable__label-arrow:hover:before {color: black;}#sk-container-id-1 div.sk-estimator:hover label.sk-toggleable__label-arrow:before {color: black;}#sk-container-id-1 div.sk-toggleable__content {max-height: 0;max-width: 0;overflow: hidden;text-align: left;background-color: #f0f8ff;}#sk-container-id-1 div.sk-toggleable__content pre {margin: 0.2em;color: black;border-radius: 0.25em;background-color: #f0f8ff;}#sk-container-id-1 input.sk-toggleable__control:checked~div.sk-toggleable__content {max-height: 200px;max-width: 100%;overflow: auto;}#sk-container-id-1 input.sk-toggleable__control:checked~label.sk-toggleable__label-arrow:before {content: \"▾\";}#sk-container-id-1 div.sk-estimator input.sk-toggleable__control:checked~label.sk-toggleable__label {background-color: #d4ebff;}#sk-container-id-1 div.sk-label input.sk-toggleable__control:checked~label.sk-toggleable__label {background-color: #d4ebff;}#sk-container-id-1 input.sk-hidden--visually {border: 0;clip: rect(1px 1px 1px 1px);clip: rect(1px, 1px, 1px, 1px);height: 1px;margin: -1px;overflow: hidden;padding: 0;position: absolute;width: 1px;}#sk-container-id-1 div.sk-estimator {font-family: monospace;background-color: #f0f8ff;border: 1px dotted black;border-radius: 0.25em;box-sizing: border-box;margin-bottom: 0.5em;}#sk-container-id-1 div.sk-estimator:hover {background-color: #d4ebff;}#sk-container-id-1 div.sk-parallel-item::after {content: \"\";width: 100%;border-bottom: 1px solid gray;flex-grow: 1;}#sk-container-id-1 div.sk-label:hover label.sk-toggleable__label {background-color: #d4ebff;}#sk-container-id-1 div.sk-serial::before {content: \"\";position: absolute;border-left: 1px solid gray;box-sizing: border-box;top: 0;bottom: 0;left: 50%;z-index: 0;}#sk-container-id-1 div.sk-serial {display: flex;flex-direction: column;align-items: center;background-color: white;padding-right: 0.2em;padding-left: 0.2em;position: relative;}#sk-container-id-1 div.sk-item {position: relative;z-index: 1;}#sk-container-id-1 div.sk-parallel {display: flex;align-items: stretch;justify-content: center;background-color: white;position: relative;}#sk-container-id-1 div.sk-item::before, #sk-container-id-1 div.sk-parallel-item::before {content: \"\";position: absolute;border-left: 1px solid gray;box-sizing: border-box;top: 0;bottom: 0;left: 50%;z-index: -1;}#sk-container-id-1 div.sk-parallel-item {display: flex;flex-direction: column;z-index: 1;position: relative;background-color: white;}#sk-container-id-1 div.sk-parallel-item:first-child::after {align-self: flex-end;width: 50%;}#sk-container-id-1 div.sk-parallel-item:last-child::after {align-self: flex-start;width: 50%;}#sk-container-id-1 div.sk-parallel-item:only-child::after {width: 0;}#sk-container-id-1 div.sk-dashed-wrapped {border: 1px dashed gray;margin: 0 0.4em 0.5em 0.4em;box-sizing: border-box;padding-bottom: 0.4em;background-color: white;}#sk-container-id-1 div.sk-label label {font-family: monospace;font-weight: bold;display: inline-block;line-height: 1.2em;}#sk-container-id-1 div.sk-label-container {text-align: center;}#sk-container-id-1 div.sk-container {/* jupyter's `normalize.less` sets `[hidden] { display: none; }` but bootstrap.min.css set `[hidden] { display: none !important; }` so we also need the `!important` here to be able to override the default hidden behavior on the sphinx rendered scikit-learn.org. See: https://github.com/scikit-learn/scikit-learn/issues/21755 */display: inline-block !important;position: relative;}#sk-container-id-1 div.sk-text-repr-fallback {display: none;}</style><div id=\"sk-container-id-1\" class=\"sk-top-container\"><div class=\"sk-text-repr-fallback\"><pre>SVC(kernel=&#x27;linear&#x27;, random_state=1234)</pre><b>In a Jupyter environment, please rerun this cell to show the HTML representation or trust the notebook. <br />On GitHub, the HTML representation is unable to render, please try loading this page with nbviewer.org.</b></div><div class=\"sk-container\" hidden><div class=\"sk-item\"><div class=\"sk-estimator sk-toggleable\"><input class=\"sk-toggleable__control sk-hidden--visually\" id=\"sk-estimator-id-1\" type=\"checkbox\" checked><label for=\"sk-estimator-id-1\" class=\"sk-toggleable__label sk-toggleable__label-arrow\">SVC</label><div class=\"sk-toggleable__content\"><pre>SVC(kernel=&#x27;linear&#x27;, random_state=1234)</pre></div></div></div></div></div>"
      ],
      "text/plain": [
       "SVC(kernel='linear', random_state=1234)"
      ]
     },
     "execution_count": 25,
     "metadata": {},
     "output_type": "execute_result"
    }
   ],
   "source": [
    "# Instantiate SVM\n",
    "svc = SVC(**best_params_svc, random_state=RANDOM_SEED)\n",
    "\n",
    "\n",
    "# Fit the model to training data\n",
    "svc.fit(X_train_tfidf, y_train)"
   ]
  },
  {
   "cell_type": "code",
   "execution_count": 26,
   "metadata": {},
   "outputs": [],
   "source": [
    "# Predict the labels of the test set\n",
    "svc_pred_labels = svc.predict(X_test_tfidf)"
   ]
  },
  {
   "cell_type": "markdown",
   "metadata": {},
   "source": [
    "### Random Forest"
   ]
  },
  {
   "cell_type": "markdown",
   "metadata": {},
   "source": [
    "#### Grid search"
   ]
  },
  {
   "cell_type": "code",
   "execution_count": 27,
   "metadata": {},
   "outputs": [
    {
     "name": "stdout",
     "output_type": "stream",
     "text": [
      "RandomForestClassifier(min_samples_split=10, n_estimators=200,\n",
      "                       random_state=1234)\n"
     ]
    }
   ],
   "source": [
    "# Instantiate Random Forest\n",
    "rf = RandomForestClassifier(random_state=RANDOM_SEED)\n",
    "\n",
    "\n",
    "# Parameter grid dictionary\n",
    "grid_dict_rf = [\n",
    "    {'max_depth': [None, 10, 20], \n",
    "     'min_samples_split': [2, 5, 10],\n",
    "     'n_estimators':[50, 100, 200]}\n",
    "]\n",
    "\n",
    "\n",
    "# Instantiate GridSearchCV and fit it to the training data\n",
    "search_rf = GridSearchCV(rf, grid_dict_rf, cv=5, n_jobs=-1) \n",
    "search_rf.fit(X_train_tfidf, y_train)\n",
    "\n",
    "\n",
    "# Print the best estimator\n",
    "print(search_rf.best_estimator_)\n",
    "\n",
    "\n",
    "# Save the best parameters in a variable \n",
    "best_params_rf = search_rf.best_params_"
   ]
  },
  {
   "cell_type": "markdown",
   "metadata": {},
   "source": [
    "#### Final model"
   ]
  },
  {
   "cell_type": "code",
   "execution_count": 28,
   "metadata": {},
   "outputs": [
    {
     "data": {
      "text/html": [
       "<style>#sk-container-id-2 {color: black;}#sk-container-id-2 pre{padding: 0;}#sk-container-id-2 div.sk-toggleable {background-color: white;}#sk-container-id-2 label.sk-toggleable__label {cursor: pointer;display: block;width: 100%;margin-bottom: 0;padding: 0.3em;box-sizing: border-box;text-align: center;}#sk-container-id-2 label.sk-toggleable__label-arrow:before {content: \"▸\";float: left;margin-right: 0.25em;color: #696969;}#sk-container-id-2 label.sk-toggleable__label-arrow:hover:before {color: black;}#sk-container-id-2 div.sk-estimator:hover label.sk-toggleable__label-arrow:before {color: black;}#sk-container-id-2 div.sk-toggleable__content {max-height: 0;max-width: 0;overflow: hidden;text-align: left;background-color: #f0f8ff;}#sk-container-id-2 div.sk-toggleable__content pre {margin: 0.2em;color: black;border-radius: 0.25em;background-color: #f0f8ff;}#sk-container-id-2 input.sk-toggleable__control:checked~div.sk-toggleable__content {max-height: 200px;max-width: 100%;overflow: auto;}#sk-container-id-2 input.sk-toggleable__control:checked~label.sk-toggleable__label-arrow:before {content: \"▾\";}#sk-container-id-2 div.sk-estimator input.sk-toggleable__control:checked~label.sk-toggleable__label {background-color: #d4ebff;}#sk-container-id-2 div.sk-label input.sk-toggleable__control:checked~label.sk-toggleable__label {background-color: #d4ebff;}#sk-container-id-2 input.sk-hidden--visually {border: 0;clip: rect(1px 1px 1px 1px);clip: rect(1px, 1px, 1px, 1px);height: 1px;margin: -1px;overflow: hidden;padding: 0;position: absolute;width: 1px;}#sk-container-id-2 div.sk-estimator {font-family: monospace;background-color: #f0f8ff;border: 1px dotted black;border-radius: 0.25em;box-sizing: border-box;margin-bottom: 0.5em;}#sk-container-id-2 div.sk-estimator:hover {background-color: #d4ebff;}#sk-container-id-2 div.sk-parallel-item::after {content: \"\";width: 100%;border-bottom: 1px solid gray;flex-grow: 1;}#sk-container-id-2 div.sk-label:hover label.sk-toggleable__label {background-color: #d4ebff;}#sk-container-id-2 div.sk-serial::before {content: \"\";position: absolute;border-left: 1px solid gray;box-sizing: border-box;top: 0;bottom: 0;left: 50%;z-index: 0;}#sk-container-id-2 div.sk-serial {display: flex;flex-direction: column;align-items: center;background-color: white;padding-right: 0.2em;padding-left: 0.2em;position: relative;}#sk-container-id-2 div.sk-item {position: relative;z-index: 1;}#sk-container-id-2 div.sk-parallel {display: flex;align-items: stretch;justify-content: center;background-color: white;position: relative;}#sk-container-id-2 div.sk-item::before, #sk-container-id-2 div.sk-parallel-item::before {content: \"\";position: absolute;border-left: 1px solid gray;box-sizing: border-box;top: 0;bottom: 0;left: 50%;z-index: -1;}#sk-container-id-2 div.sk-parallel-item {display: flex;flex-direction: column;z-index: 1;position: relative;background-color: white;}#sk-container-id-2 div.sk-parallel-item:first-child::after {align-self: flex-end;width: 50%;}#sk-container-id-2 div.sk-parallel-item:last-child::after {align-self: flex-start;width: 50%;}#sk-container-id-2 div.sk-parallel-item:only-child::after {width: 0;}#sk-container-id-2 div.sk-dashed-wrapped {border: 1px dashed gray;margin: 0 0.4em 0.5em 0.4em;box-sizing: border-box;padding-bottom: 0.4em;background-color: white;}#sk-container-id-2 div.sk-label label {font-family: monospace;font-weight: bold;display: inline-block;line-height: 1.2em;}#sk-container-id-2 div.sk-label-container {text-align: center;}#sk-container-id-2 div.sk-container {/* jupyter's `normalize.less` sets `[hidden] { display: none; }` but bootstrap.min.css set `[hidden] { display: none !important; }` so we also need the `!important` here to be able to override the default hidden behavior on the sphinx rendered scikit-learn.org. See: https://github.com/scikit-learn/scikit-learn/issues/21755 */display: inline-block !important;position: relative;}#sk-container-id-2 div.sk-text-repr-fallback {display: none;}</style><div id=\"sk-container-id-2\" class=\"sk-top-container\"><div class=\"sk-text-repr-fallback\"><pre>RandomForestClassifier(min_samples_split=10, n_estimators=200,\n",
       "                       random_state=1234)</pre><b>In a Jupyter environment, please rerun this cell to show the HTML representation or trust the notebook. <br />On GitHub, the HTML representation is unable to render, please try loading this page with nbviewer.org.</b></div><div class=\"sk-container\" hidden><div class=\"sk-item\"><div class=\"sk-estimator sk-toggleable\"><input class=\"sk-toggleable__control sk-hidden--visually\" id=\"sk-estimator-id-2\" type=\"checkbox\" checked><label for=\"sk-estimator-id-2\" class=\"sk-toggleable__label sk-toggleable__label-arrow\">RandomForestClassifier</label><div class=\"sk-toggleable__content\"><pre>RandomForestClassifier(min_samples_split=10, n_estimators=200,\n",
       "                       random_state=1234)</pre></div></div></div></div></div>"
      ],
      "text/plain": [
       "RandomForestClassifier(min_samples_split=10, n_estimators=200,\n",
       "                       random_state=1234)"
      ]
     },
     "execution_count": 28,
     "metadata": {},
     "output_type": "execute_result"
    }
   ],
   "source": [
    "# Instantiate Random Forest\n",
    "rf = RandomForestClassifier(**best_params_rf, random_state=RANDOM_SEED)\n",
    "\n",
    "\n",
    "# Fit the model to training data\n",
    "rf.fit(X_train_tfidf, y_train)"
   ]
  },
  {
   "cell_type": "code",
   "execution_count": 29,
   "metadata": {},
   "outputs": [],
   "source": [
    "# Predict the labels of the test set\n",
    "rf_pred_labels = rf.predict(X_test_tfidf)"
   ]
  },
  {
   "cell_type": "markdown",
   "metadata": {},
   "source": [
    "### Multinomial Naive Bayes"
   ]
  },
  {
   "cell_type": "code",
   "execution_count": 30,
   "metadata": {},
   "outputs": [
    {
     "name": "stdout",
     "output_type": "stream",
     "text": [
      "MultinomialNB(alpha=1)\n"
     ]
    }
   ],
   "source": [
    "# Instantiate Multinomial Naive Bayes\n",
    "mnb = MultinomialNB()\n",
    "\n",
    "\n",
    "# Parameter grid dictionary\n",
    "grid_dict_mnb = [\n",
    "    {'alpha': [0.01, 0.1, 1]}\n",
    "]\n",
    "\n",
    "\n",
    "# Instantiate GridSearchCV and fit it to the training data\n",
    "search_mnb = GridSearchCV(mnb, grid_dict_mnb, cv=5, n_jobs=-1) \n",
    "search_mnb.fit(X_train_tfidf, y_train)\n",
    "\n",
    "\n",
    "# Print the best estimator\n",
    "print(search_mnb.best_estimator_)\n",
    "\n",
    "\n",
    "# Save the best parameters in a variable \n",
    "best_params_mnb = search_mnb.best_params_"
   ]
  },
  {
   "cell_type": "markdown",
   "metadata": {},
   "source": [
    "#### Final model"
   ]
  },
  {
   "cell_type": "code",
   "execution_count": 31,
   "metadata": {},
   "outputs": [
    {
     "data": {
      "text/html": [
       "<style>#sk-container-id-3 {color: black;}#sk-container-id-3 pre{padding: 0;}#sk-container-id-3 div.sk-toggleable {background-color: white;}#sk-container-id-3 label.sk-toggleable__label {cursor: pointer;display: block;width: 100%;margin-bottom: 0;padding: 0.3em;box-sizing: border-box;text-align: center;}#sk-container-id-3 label.sk-toggleable__label-arrow:before {content: \"▸\";float: left;margin-right: 0.25em;color: #696969;}#sk-container-id-3 label.sk-toggleable__label-arrow:hover:before {color: black;}#sk-container-id-3 div.sk-estimator:hover label.sk-toggleable__label-arrow:before {color: black;}#sk-container-id-3 div.sk-toggleable__content {max-height: 0;max-width: 0;overflow: hidden;text-align: left;background-color: #f0f8ff;}#sk-container-id-3 div.sk-toggleable__content pre {margin: 0.2em;color: black;border-radius: 0.25em;background-color: #f0f8ff;}#sk-container-id-3 input.sk-toggleable__control:checked~div.sk-toggleable__content {max-height: 200px;max-width: 100%;overflow: auto;}#sk-container-id-3 input.sk-toggleable__control:checked~label.sk-toggleable__label-arrow:before {content: \"▾\";}#sk-container-id-3 div.sk-estimator input.sk-toggleable__control:checked~label.sk-toggleable__label {background-color: #d4ebff;}#sk-container-id-3 div.sk-label input.sk-toggleable__control:checked~label.sk-toggleable__label {background-color: #d4ebff;}#sk-container-id-3 input.sk-hidden--visually {border: 0;clip: rect(1px 1px 1px 1px);clip: rect(1px, 1px, 1px, 1px);height: 1px;margin: -1px;overflow: hidden;padding: 0;position: absolute;width: 1px;}#sk-container-id-3 div.sk-estimator {font-family: monospace;background-color: #f0f8ff;border: 1px dotted black;border-radius: 0.25em;box-sizing: border-box;margin-bottom: 0.5em;}#sk-container-id-3 div.sk-estimator:hover {background-color: #d4ebff;}#sk-container-id-3 div.sk-parallel-item::after {content: \"\";width: 100%;border-bottom: 1px solid gray;flex-grow: 1;}#sk-container-id-3 div.sk-label:hover label.sk-toggleable__label {background-color: #d4ebff;}#sk-container-id-3 div.sk-serial::before {content: \"\";position: absolute;border-left: 1px solid gray;box-sizing: border-box;top: 0;bottom: 0;left: 50%;z-index: 0;}#sk-container-id-3 div.sk-serial {display: flex;flex-direction: column;align-items: center;background-color: white;padding-right: 0.2em;padding-left: 0.2em;position: relative;}#sk-container-id-3 div.sk-item {position: relative;z-index: 1;}#sk-container-id-3 div.sk-parallel {display: flex;align-items: stretch;justify-content: center;background-color: white;position: relative;}#sk-container-id-3 div.sk-item::before, #sk-container-id-3 div.sk-parallel-item::before {content: \"\";position: absolute;border-left: 1px solid gray;box-sizing: border-box;top: 0;bottom: 0;left: 50%;z-index: -1;}#sk-container-id-3 div.sk-parallel-item {display: flex;flex-direction: column;z-index: 1;position: relative;background-color: white;}#sk-container-id-3 div.sk-parallel-item:first-child::after {align-self: flex-end;width: 50%;}#sk-container-id-3 div.sk-parallel-item:last-child::after {align-self: flex-start;width: 50%;}#sk-container-id-3 div.sk-parallel-item:only-child::after {width: 0;}#sk-container-id-3 div.sk-dashed-wrapped {border: 1px dashed gray;margin: 0 0.4em 0.5em 0.4em;box-sizing: border-box;padding-bottom: 0.4em;background-color: white;}#sk-container-id-3 div.sk-label label {font-family: monospace;font-weight: bold;display: inline-block;line-height: 1.2em;}#sk-container-id-3 div.sk-label-container {text-align: center;}#sk-container-id-3 div.sk-container {/* jupyter's `normalize.less` sets `[hidden] { display: none; }` but bootstrap.min.css set `[hidden] { display: none !important; }` so we also need the `!important` here to be able to override the default hidden behavior on the sphinx rendered scikit-learn.org. See: https://github.com/scikit-learn/scikit-learn/issues/21755 */display: inline-block !important;position: relative;}#sk-container-id-3 div.sk-text-repr-fallback {display: none;}</style><div id=\"sk-container-id-3\" class=\"sk-top-container\"><div class=\"sk-text-repr-fallback\"><pre>MultinomialNB(alpha=1)</pre><b>In a Jupyter environment, please rerun this cell to show the HTML representation or trust the notebook. <br />On GitHub, the HTML representation is unable to render, please try loading this page with nbviewer.org.</b></div><div class=\"sk-container\" hidden><div class=\"sk-item\"><div class=\"sk-estimator sk-toggleable\"><input class=\"sk-toggleable__control sk-hidden--visually\" id=\"sk-estimator-id-3\" type=\"checkbox\" checked><label for=\"sk-estimator-id-3\" class=\"sk-toggleable__label sk-toggleable__label-arrow\">MultinomialNB</label><div class=\"sk-toggleable__content\"><pre>MultinomialNB(alpha=1)</pre></div></div></div></div></div>"
      ],
      "text/plain": [
       "MultinomialNB(alpha=1)"
      ]
     },
     "execution_count": 31,
     "metadata": {},
     "output_type": "execute_result"
    }
   ],
   "source": [
    "# Instantiate \n",
    "mnb = MultinomialNB(**best_params_mnb)\n",
    "\n",
    "\n",
    "# Fit the model to training data\n",
    "mnb.fit(X_train_tfidf, y_train)"
   ]
  },
  {
   "cell_type": "code",
   "execution_count": 32,
   "metadata": {},
   "outputs": [],
   "source": [
    "# Predict the labels of the test set\n",
    "mnb_pred_labels = mnb.predict(X_test_tfidf)"
   ]
  },
  {
   "cell_type": "markdown",
   "metadata": {},
   "source": [
    "## Model evaluation"
   ]
  },
  {
   "cell_type": "markdown",
   "metadata": {},
   "source": [
    "### Support Vector Machine/Classifier"
   ]
  },
  {
   "cell_type": "code",
   "execution_count": 46,
   "metadata": {},
   "outputs": [
    {
     "name": "stdout",
     "output_type": "stream",
     "text": [
      "SVC Results: \n",
      "Dataset:\t FEVER \n",
      "Model parameters: {'C': 1.0, 'kernel': 'linear'} \n",
      "Accuracy:\t 0.7535333333333334 \n",
      "Precision:\t 0.7524551878388759 \n",
      "Recall:\t\t 0.7535333333333334 \n",
      "F1-score:\t 0.7115104409547057\n",
      "\n",
      "\n",
      "\n",
      "Classification report SVC (FEVER):\n",
      "\n",
      "              precision    recall  f1-score   support\n",
      "\n",
      "           0     0.7485    0.2761    0.4034      4527\n",
      "           1     0.7542    0.9599    0.8447     10473\n",
      "\n",
      "    accuracy                         0.7535     15000\n",
      "   macro avg     0.7513    0.6180    0.6241     15000\n",
      "weighted avg     0.7525    0.7535    0.7115     15000\n",
      "\n"
     ]
    }
   ],
   "source": [
    "# Calculate different performance measures\n",
    "accuracy_score_svc = accuracy_score(y_test , svc_pred_labels)\n",
    "precision_score_svc = precision_score(y_test , svc_pred_labels, average='weighted')\n",
    "recall_score_svc = recall_score(y_test, svc_pred_labels, average='weighted')\n",
    "f1_score_svc = f1_score(y_test, svc_pred_labels, average='weighted')\n",
    "\n",
    "\n",
    "# Print the different performance measures\n",
    "print(\"SVC Results:\",\n",
    "      \"\\nDataset:\\t FEVER\",\n",
    "      \"\\nModel parameters:\", search_svc.best_params_,\n",
    "      \"\\nAccuracy:\\t\", accuracy_score_svc,\n",
    "      \"\\nPrecision:\\t\", precision_score_svc, \n",
    "      \"\\nRecall:\\t\\t\",  recall_score_svc, \n",
    "      \"\\nF1-score:\\t\", f1_score_svc)\n",
    "\n",
    "\n",
    "# Classification report for SVC\n",
    "print('\\n\\n\\nClassification report SVC (FEVER):\\n')\n",
    "print(classification_report(y_test, svc_pred_labels, digits=4))"
   ]
  },
  {
   "cell_type": "markdown",
   "metadata": {},
   "source": [
    "### Random Forest"
   ]
  },
  {
   "cell_type": "code",
   "execution_count": 47,
   "metadata": {},
   "outputs": [
    {
     "name": "stdout",
     "output_type": "stream",
     "text": [
      "Random Forest Results: \n",
      "Dataset:\t FEVER \n",
      "Model parameters: {'max_depth': None, 'min_samples_split': 10, 'n_estimators': 200} \n",
      "Accuracy:\t 0.7340666666666666 \n",
      "Precision:\t 0.7139602758101113 \n",
      "Recall:\t\t 0.7340666666666666 \n",
      "F1-score:\t 0.7104431013365289\n",
      "\n",
      "\n",
      "\n",
      "Classification report Random Forest (FEVER):\n",
      "\n",
      "              precision    recall  f1-score   support\n",
      "\n",
      "           0     0.6011    0.3534    0.4451      4527\n",
      "           1     0.7628    0.8986    0.8251     10473\n",
      "\n",
      "    accuracy                         0.7341     15000\n",
      "   macro avg     0.6819    0.6260    0.6351     15000\n",
      "weighted avg     0.7140    0.7341    0.7104     15000\n",
      "\n"
     ]
    }
   ],
   "source": [
    "# Calculate different performance measures\n",
    "accuracy_score_rf = accuracy_score(y_test , rf_pred_labels)\n",
    "precision_score_rf = precision_score(y_test , rf_pred_labels, average='weighted')\n",
    "recall_score_rf = recall_score(y_test, rf_pred_labels, average='weighted')\n",
    "f1_score_rf = f1_score(y_test, rf_pred_labels, average='weighted')\n",
    "\n",
    "\n",
    "# Print the different performance measures\n",
    "print(\"Random Forest Results:\",\n",
    "      \"\\nDataset:\\t FEVER\",\n",
    "      \"\\nModel parameters:\", search_rf.best_params_,\n",
    "      \"\\nAccuracy:\\t\", accuracy_score_rf,\n",
    "      \"\\nPrecision:\\t\", precision_score_rf, \n",
    "      \"\\nRecall:\\t\\t\",  recall_score_rf, \n",
    "      \"\\nF1-score:\\t\", f1_score_rf)\n",
    "\n",
    "\n",
    "# Classification report for Random Forest\n",
    "print('\\n\\n\\nClassification report Random Forest (FEVER):\\n')\n",
    "print(classification_report(y_test, rf_pred_labels, digits=4))"
   ]
  },
  {
   "cell_type": "markdown",
   "metadata": {},
   "source": [
    "### Multinomial Naive Bayes"
   ]
  },
  {
   "cell_type": "code",
   "execution_count": 48,
   "metadata": {},
   "outputs": [
    {
     "name": "stdout",
     "output_type": "stream",
     "text": [
      "Multinomial Naive Bayes: \n",
      "Dataset:\t FEVER \n",
      "Model parameters: {'alpha': 1} \n",
      "Accuracy:\t 0.7238 \n",
      "Precision:\t 0.7142675699287383 \n",
      "Recall:\t\t 0.7238 \n",
      "F1-score:\t 0.6567942736264131\n",
      "\n",
      "\n",
      "\n",
      "Classification report Multinomial Naive Bayes (FEVER):\n",
      "\n",
      "              precision    recall  f1-score   support\n",
      "\n",
      "           0     0.6857    0.1566    0.2550      4527\n",
      "           1     0.7266    0.9690    0.8305     10473\n",
      "\n",
      "    accuracy                         0.7238     15000\n",
      "   macro avg     0.7062    0.5628    0.5427     15000\n",
      "weighted avg     0.7143    0.7238    0.6568     15000\n",
      "\n"
     ]
    }
   ],
   "source": [
    "# Calculate different performance measures\n",
    "accuracy_score_mnb = accuracy_score(y_test , mnb_pred_labels)\n",
    "precision_score_mnb = precision_score(y_test , mnb_pred_labels, average='weighted')\n",
    "recall_score_mnb = recall_score(y_test, mnb_pred_labels, average='weighted')\n",
    "f1_score_mnb = f1_score(y_test, mnb_pred_labels, average='weighted')\n",
    "\n",
    "\n",
    "# Print the different performance measures\n",
    "print(\"Multinomial Naive Bayes:\",\n",
    "      \"\\nDataset:\\t FEVER\",\n",
    "      \"\\nModel parameters:\", search_mnb.best_params_,\n",
    "      \"\\nAccuracy:\\t\", accuracy_score_mnb,\n",
    "      \"\\nPrecision:\\t\", precision_score_mnb, \n",
    "      \"\\nRecall:\\t\\t\",  recall_score_mnb, \n",
    "      \"\\nF1-score:\\t\", f1_score_mnb)\n",
    "\n",
    "\n",
    "# Classification report for Multinomial Naive Bayes\n",
    "print('\\n\\n\\nClassification report Multinomial Naive Bayes (FEVER):\\n')\n",
    "print(classification_report(y_test, mnb_pred_labels, digits=4))"
   ]
  },
  {
   "cell_type": "markdown",
   "metadata": {},
   "source": [
    "### AUC and AUPRC plots"
   ]
  },
  {
   "cell_type": "code",
   "execution_count": 45,
   "metadata": {},
   "outputs": [
    {
     "name": "stdout",
     "output_type": "stream",
     "text": [
      "Average Precision SVC (fake news): 0.5798311295770193\n",
      "Average Precision RF (fake news): 0.5629081336958024\n",
      "Average Precision MNB (fake news): 0.512796549871164\n",
      "Average Precision SVC (real news): 0.8165396676344869\n",
      "Average Precision RF (real news): 0.8177814429991608\n",
      "Average Precision MNB (real news): 0.8137884234084987\n"
     ]
    },
    {
     "data": {
      "image/png": "[encoded data removed]",
      "text/plain": [
       "<Figure size 1000x1000 with 4 Axes>"
      ]
     },
     "metadata": {},
     "output_type": "display_data"
    }
   ],
   "source": [
    "# Create plot canvas with subplot spaces\n",
    "fig, axs = plt.subplots(2, 2, figsize=(10, 10))\n",
    "\n",
    "# AUPRC\n",
    "print('Average Precision SVC (fake news):',\n",
    "    PrecisionRecallDisplay.from_estimator(\n",
    "    svc, X_test_tfidf, y_test, pos_label=mnb.classes_[0], ax=axs[0, 0]).average_precision)\n",
    "\n",
    "print('Average Precision RF (fake news):',\n",
    "    PrecisionRecallDisplay.from_estimator(\n",
    "    rf, X_test_tfidf, y_test, pos_label=mnb.classes_[0], ax=axs[0, 0]).average_precision)\n",
    "\n",
    "print('Average Precision MNB (fake news):',\n",
    "    PrecisionRecallDisplay.from_estimator(\n",
    "    mnb, X_test_tfidf, y_test, pos_label=mnb.classes_[0], ax=axs[0, 0],\n",
    "    plot_chance_level=True).average_precision)\n",
    "\n",
    "print('Average Precision SVC (real news):',\n",
    "    PrecisionRecallDisplay.from_estimator(\n",
    "    svc, X_test_tfidf, y_test, pos_label=mnb.classes_[1], ax=axs[0, 1]).average_precision)\n",
    "\n",
    "print('Average Precision RF (real news):',\n",
    "    PrecisionRecallDisplay.from_estimator(\n",
    "    rf, X_test_tfidf, y_test, pos_label=mnb.classes_[1], ax=axs[0, 1]).average_precision)\n",
    "\n",
    "print('Average Precision MNB (real news):',\n",
    "    PrecisionRecallDisplay.from_estimator(\n",
    "    mnb, X_test_tfidf, y_test, pos_label=mnb.classes_[1], ax=axs[0, 1],\n",
    "    plot_chance_level=True).average_precision)\n",
    "\n",
    "axs[0, 0].set_title('AUPRC\\nFake News as Positive Class')\n",
    "axs[0, 1].set_title('AUPRC\\nReal News as Positive Class')\n",
    "\n",
    "\n",
    "# AUC\n",
    "RocCurveDisplay.from_estimator(\n",
    "    svc, X_test_tfidf, y_test, pos_label=mnb.classes_[0], ax=axs[1, 0])\n",
    "\n",
    "RocCurveDisplay.from_estimator(\n",
    "    rf, X_test_tfidf, y_test, pos_label=mnb.classes_[0], ax=axs[1, 0])\n",
    "\n",
    "RocCurveDisplay.from_estimator(\n",
    "    mnb, X_test_tfidf, y_test, pos_label=mnb.classes_[0], ax=axs[1, 0],\n",
    "    plot_chance_level=True)\n",
    "\n",
    "RocCurveDisplay.from_estimator(\n",
    "    svc, X_test_tfidf, y_test, pos_label=mnb.classes_[1], ax=axs[1, 1])\n",
    "\n",
    "RocCurveDisplay.from_estimator(\n",
    "    rf, X_test_tfidf, y_test, pos_label=mnb.classes_[1], ax=axs[1, 1])\n",
    "\n",
    "RocCurveDisplay.from_estimator(\n",
    "    mnb, X_test_tfidf, y_test, pos_label=mnb.classes_[1], ax=axs[1, 1],\n",
    "    plot_chance_level=True)\n",
    "\n",
    "axs[1, 0].set_title('ROC-AUC\\nFake News as Positive Class')\n",
    "axs[1, 1].set_title('ROC-AUC\\nReal News as Positive Class')\n",
    "\n",
    "plt.tight_layout()"
   ]
  }
 ],
 "metadata": {
  "kernelspec": {
   "display_name": "base",
   "language": "python",
   "name": "python3"
  },
  "language_info": {
   "codemirror_mode": {
    "name": "ipython",
    "version": 3
   },
   "file_extension": ".py",
   "mimetype": "text/x-python",
   "name": "python",
   "nbconvert_exporter": "python",
   "pygments_lexer": "ipython3",
   "version": "3.9.16"
  }
 },
 "nbformat": 4,
 "nbformat_minor": 2
}
