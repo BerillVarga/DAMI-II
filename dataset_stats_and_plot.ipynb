{
 "cells": [
  {
   "cell_type": "markdown",
   "metadata": {},
   "source": [
    "# General information about the datasets"
   ]
  },
  {
   "cell_type": "code",
   "execution_count": 1,
   "metadata": {},
   "outputs": [],
   "source": [
    "# IMPORT\n",
    "\n",
    "# Base libraries\n",
    "import pandas as pd\n",
    "import numpy as np\n",
    "\n",
    "# JSON for loading of data\n",
    "import json\n",
    "\n",
    "# Plot\n",
    "import matplotlib.pyplot as plt\n",
    "\n",
    "# Random seed\n",
    "RANDOM_SEED = 1234"
   ]
  },
  {
   "cell_type": "markdown",
   "metadata": {},
   "source": [
    "## Load datasets"
   ]
  },
  {
   "cell_type": "markdown",
   "metadata": {},
   "source": [
    "### Dataset: FEVER"
   ]
  },
  {
   "cell_type": "code",
   "execution_count": 2,
   "metadata": {},
   "outputs": [],
   "source": [
    "# FEVER\n",
    "# File paths\n",
    "fever_test_path = \"FEVER/test.jsonl\"\n",
    "fever_train_path = \"FEVER/train.jsonl\"\n",
    "\n",
    "\n",
    "# Load test data \n",
    "with open(fever_test_path, 'r') as json_file:\n",
    "    lines = json_file.read().splitlines()\n",
    "fever_test = pd.DataFrame(lines)\n",
    "fever_test.columns = ['json_element']\n",
    "fever_test['json_element'].apply(json.loads)\n",
    "\n",
    "fever_test = pd.json_normalize(fever_test['json_element'].apply(json.loads))\n",
    "\n",
    "\n",
    "# Load train data\n",
    "with open(fever_train_path, 'r') as json_file:\n",
    "    lines = json_file.read().splitlines()\n",
    "fever_train = pd.DataFrame(lines)\n",
    "fever_train.columns = ['json_element']\n",
    "fever_train['json_element'].apply(json.loads)\n",
    "\n",
    "fever_train = pd.json_normalize(fever_train['json_element'].apply(json.loads))\n",
    "\n",
    "\n",
    "# Merge the two datasets (test+train)\n",
    "fever = pd.concat([fever_test, fever_train], axis=0, ignore_index=True)"
   ]
  },
  {
   "cell_type": "markdown",
   "metadata": {},
   "source": [
    "Final dataset"
   ]
  },
  {
   "cell_type": "code",
   "execution_count": 3,
   "metadata": {},
   "outputs": [],
   "source": [
    "# Remove the instances with the label 'NOT ENOUGH INFO'\n",
    "fever_dopped = fever[fever['label'] != 'NOT ENOUGH INFO']\n",
    "\n",
    "\n",
    "# Change the label encoding to 1 ('REFUTES', fake) and 0 ('SUPPORTS', real)\n",
    "fever_dopped = fever_dopped.replace({'label':{'SUPPORTS': 1, 'REFUTES': 0}})\n",
    "\n",
    "\n",
    "# Rename the 'label' column to 'is_real' (for easier understanding of the values)\n",
    "fever_dopped.rename(columns={'label': 'is_real'}, inplace=True)"
   ]
  },
  {
   "cell_type": "code",
   "execution_count": 4,
   "metadata": {},
   "outputs": [],
   "source": [
    "# Remove duplicates\n",
    "fever_dopped  = fever_dopped.drop_duplicates(subset=('is_real', 'claim'))"
   ]
  },
  {
   "cell_type": "code",
   "execution_count": 5,
   "metadata": {},
   "outputs": [],
   "source": [
    "# Sample 50000 instances\n",
    "fever_sample = fever_dopped.sample(50000, axis='index', random_state=RANDOM_SEED)"
   ]
  },
  {
   "cell_type": "code",
   "execution_count": 6,
   "metadata": {},
   "outputs": [],
   "source": [
    "# Remove unnecessary features from the dataset\n",
    "fever_sample = fever_sample.drop(columns=['id', 'verifiable', 'evidence'])\n",
    "\n",
    "\n",
    "# Rename the 'claim' column to 'text'\n",
    "fever_sample.rename(columns={'claim': 'text'}, inplace=True)"
   ]
  },
  {
   "cell_type": "markdown",
   "metadata": {},
   "source": [
    "### Dataset: Pheme"
   ]
  },
  {
   "cell_type": "code",
   "execution_count": 7,
   "metadata": {},
   "outputs": [],
   "source": [
    "# File path\n",
    "pheme_path = 'Pheme_dataset/dataset.csv'\n",
    "\n",
    "\n",
    "# Load the dataaset\n",
    "pheme_df = pd.read_csv(pheme_path)\n",
    "\n",
    "\n",
    "# Remove unnecessary features from the dataset\n",
    "pheme = pheme_df.drop(columns=['user.handle', 'topic'])"
   ]
  },
  {
   "cell_type": "code",
   "execution_count": 8,
   "metadata": {},
   "outputs": [],
   "source": [
    "# Delete the null-valued rows from the dataset\n",
    "pheme = pheme.dropna()"
   ]
  },
  {
   "cell_type": "code",
   "execution_count": 9,
   "metadata": {},
   "outputs": [],
   "source": [
    "# Changing the data type of the \"is_rumor\" column from float to int\n",
    "pheme['is_rumor'] = pheme['is_rumor'].astype(int)"
   ]
  },
  {
   "cell_type": "code",
   "execution_count": 10,
   "metadata": {},
   "outputs": [],
   "source": [
    "# Flipping the label encoding (1 --> 0, 0 --> 1) and chaning the column name\n",
    "pheme['is_rumor'] = pheme.loc[:, 'is_rumor'].replace({1: 0, 0: 1})\n",
    "pheme.rename(columns={'is_rumor': 'is_real'}, inplace=True)"
   ]
  },
  {
   "cell_type": "markdown",
   "metadata": {},
   "source": [
    "Final dataset"
   ]
  },
  {
   "cell_type": "code",
   "execution_count": 11,
   "metadata": {},
   "outputs": [],
   "source": [
    "# Drop duplicates\n",
    "pheme_final = pheme.drop_duplicates()"
   ]
  },
  {
   "cell_type": "markdown",
   "metadata": {},
   "source": [
    "### GossipCop"
   ]
  },
  {
   "cell_type": "code",
   "execution_count": 12,
   "metadata": {},
   "outputs": [],
   "source": [
    "# File paths\n",
    "gossipcop_fake_path = 'GossipCop/gossipcop_fake.csv'\n",
    "gossipcop_real_path = 'GossipCop/gossipcop_real.csv'\n",
    "\n",
    "\n",
    "# Load the data\n",
    "gossipcop_fake = pd.read_csv(gossipcop_fake_path)\n",
    "gossipcop_real = pd.read_csv(gossipcop_real_path)\n",
    "\n",
    "\n",
    "# Label the data\n",
    "gossipcop_fake['is_real'] = 0\n",
    "gossipcop_real['is_real'] = 1\n",
    "\n",
    "\n",
    "# Merge the two datasets (fake+real)\n",
    "gossipcop_df = pd.concat([gossipcop_fake, gossipcop_real], axis=0, ignore_index=True)\n",
    "\n",
    "\n",
    "# Remove unnecessary features from the dataset\n",
    "gossipcop_df.columns\n",
    "gossipcop = gossipcop_df.drop(columns=['id', 'news_url', 'tweet_ids'])"
   ]
  },
  {
   "cell_type": "code",
   "execution_count": 13,
   "metadata": {},
   "outputs": [],
   "source": [
    "# Rename the 'title' column to 'text'\n",
    "gossipcop.rename(columns={'title': 'text'}, inplace=True)"
   ]
  },
  {
   "cell_type": "markdown",
   "metadata": {},
   "source": [
    "Final dataset"
   ]
  },
  {
   "cell_type": "code",
   "execution_count": 14,
   "metadata": {},
   "outputs": [],
   "source": [
    "# Remove duplicates\n",
    "gossipcop_final = gossipcop.drop_duplicates()"
   ]
  },
  {
   "cell_type": "markdown",
   "metadata": {},
   "source": [
    "## Descriptive stats about the datasets"
   ]
  },
  {
   "cell_type": "markdown",
   "metadata": {},
   "source": [
    "### Original datasets"
   ]
  },
  {
   "cell_type": "code",
   "execution_count": 15,
   "metadata": {},
   "outputs": [
    {
     "name": "stdout",
     "output_type": "stream",
     "text": [
      "Dataset: FEVER\n",
      "No. of instances:  165447\n",
      "Label distribution:\n",
      "SUPPORTS           86701\n",
      "NOT ENOUGH INFO    42305\n",
      "REFUTES            36441\n",
      "Name: label, dtype: int64\n",
      "\n",
      "Dataset: Pheme\n",
      "No. of instances:  62443\n",
      "Label distribution:\n",
      "1    48619\n",
      "0    13824\n",
      "Name: is_real, dtype: int64\n",
      "\n",
      "Dataset: GossipCop\n",
      "No. of instances:  22140\n",
      "Label distribution:\n",
      "1    16817\n",
      "0     5323\n",
      "Name: is_real, dtype: int64\n"
     ]
    }
   ],
   "source": [
    "# Number of instances with label ('is_real') 0 and 1\n",
    "print('Dataset: FEVER')\n",
    "print('No. of instances: ', fever['claim'].count())\n",
    "print('Label distribution:\\n' + str(fever[\"label\"].value_counts()))\n",
    "print('\\nDataset: Pheme')\n",
    "print('No. of instances: ', pheme['text'].count())\n",
    "print('Label distribution:\\n' + str(pheme[\"is_real\"].value_counts()))\n",
    "print('\\nDataset: GossipCop')\n",
    "print('No. of instances: ', gossipcop['text'].count())\n",
    "print('Label distribution:\\n' + str(gossipcop[\"is_real\"].value_counts()))"
   ]
  },
  {
   "cell_type": "markdown",
   "metadata": {},
   "source": [
    "### Final datasets"
   ]
  },
  {
   "cell_type": "code",
   "execution_count": 16,
   "metadata": {},
   "outputs": [
    {
     "name": "stdout",
     "output_type": "stream",
     "text": [
      "Dataset: FEVER\n",
      "No. of instances:  50000\n",
      "Label distribution:\n",
      "1    34910\n",
      "0    15090\n",
      "Name: is_real, dtype: int64\n",
      "\n",
      "Dataset: Pheme\n",
      "No. of instances:  61404\n",
      "Label distribution:\n",
      "1    47875\n",
      "0    13529\n",
      "Name: is_real, dtype: int64\n",
      "\n",
      "Dataset: GossipCop\n",
      "No. of instances:  20863\n",
      "Label distribution:\n",
      "1    15967\n",
      "0     4896\n",
      "Name: is_real, dtype: int64\n"
     ]
    }
   ],
   "source": [
    "# Number of instances with label ('is_real') 0 and 1\n",
    "print('Dataset: FEVER')\n",
    "print('No. of instances: ', fever_sample['text'].count())\n",
    "print('Label distribution:\\n' + str(fever_sample[\"is_real\"].value_counts()))\n",
    "print('\\nDataset: Pheme')\n",
    "print('No. of instances: ', pheme_final['text'].count())\n",
    "print('Label distribution:\\n' + str(pheme_final[\"is_real\"].value_counts()))\n",
    "print('\\nDataset: GossipCop')\n",
    "print('No. of instances: ', gossipcop_final['text'].count())\n",
    "print('Label distribution:\\n' + str(gossipcop_final[\"is_real\"].value_counts()))"
   ]
  },
  {
   "cell_type": "code",
   "execution_count": 17,
   "metadata": {},
   "outputs": [
    {
     "name": "stdout",
     "output_type": "stream",
     "text": [
      "\n",
      "Dataset: FEVER\n",
      "Total number of instances: 50000\n",
      "Number of fake news: 15090 (30.180%)\n",
      "Number of real news: 34910 (69.820%)\n",
      "\n",
      "Dataset: Pheme\n",
      "Total number of instances: 61404\n",
      "Number of fake news: 13529 (22.033%)\n",
      "Number of real news: 47875 (77.967%)\n",
      "\n",
      "Dataset: GossipCop\n",
      "Total number of instances: 20863\n",
      "Number of fake news: 4896 (23.467%)\n",
      "Number of real news: 15967 (76.533%)\n"
     ]
    }
   ],
   "source": [
    "datasets = [fever_sample, pheme_final, gossipcop_final]\n",
    "i = 0\n",
    "stats_dict = {'Fake': [], 'Real': []}\n",
    "\n",
    "for dataset in datasets:\n",
    "    names = ['FEVER', 'Pheme', 'GossipCop']\n",
    "    fake = dataset[\"is_real\"].value_counts()[0]\n",
    "    real = dataset[\"is_real\"].value_counts()[1]\n",
    "    total = dataset[\"is_real\"].count()\n",
    "    print(f'\\nDataset: {names[i]}')\n",
    "    print(f'Total number of instances: {total}')\n",
    "    print(f'Number of fake news: {fake} ({fake / total * 100:.3f}%)')\n",
    "    print(f'Number of real news: {real} ({real / total * 100:.3f}%)')\n",
    "\n",
    "    stats_dict['Fake'].append(fake)\n",
    "    stats_dict['Real'].append(real)\n",
    "\n",
    "    i += 1"
   ]
  },
  {
   "cell_type": "markdown",
   "metadata": {},
   "source": [
    "### Plot"
   ]
  },
  {
   "cell_type": "code",
   "execution_count": 18,
   "metadata": {},
   "outputs": [
    {
     "data": {
      "image/png": "[encoded data removed]",
      "text/plain": [
       "<Figure size 640x480 with 1 Axes>"
      ]
     },
     "metadata": {},
     "output_type": "display_data"
    }
   ],
   "source": [
    "# Dataset names\n",
    "names = ('FEVER', 'Pheme', 'GossipCop')\n",
    "\n",
    "x = np.arange(len(names))  # the label locations\n",
    "width = 0.25  # the width of the bars\n",
    "multiplier = 0\n",
    "\n",
    "fig, ax = plt.subplots(layout='constrained')\n",
    "\n",
    "colors = ['darkorange', 'darkgreen']\n",
    "\n",
    "for attribute, measurement, color in zip(stats_dict.keys(), stats_dict.values(), colors):\n",
    "    offset = width * multiplier\n",
    "    rects = ax.bar(x + offset, measurement, width, label=attribute, color=color)\n",
    "    ax.bar_label(rects, padding=3)\n",
    "    multiplier += 1\n",
    "\n",
    "# Add some text for labels, title and custom x-axis tick labels, etc.\n",
    "ax.set_ylabel('No. of news')\n",
    "ax.set_xlabel('Dataset')\n",
    "ax.set_title('Fake News vs Real News')\n",
    "ax.set_xticks(x + width/2, names)\n",
    "ax.legend(loc='upper left', ncols=2)\n",
    "ax.set_ylim(0, 55000)\n",
    "\n",
    "plt.show()"
   ]
  }
 ],
 "metadata": {
  "kernelspec": {
   "display_name": "base",
   "language": "python",
   "name": "python3"
  },
  "language_info": {
   "codemirror_mode": {
    "name": "ipython",
    "version": 3
   },
   "file_extension": ".py",
   "mimetype": "text/x-python",
   "name": "python",
   "nbconvert_exporter": "python",
   "pygments_lexer": "ipython3",
   "version": "3.9.16"
  }
 },
 "nbformat": 4,
 "nbformat_minor": 2
}
